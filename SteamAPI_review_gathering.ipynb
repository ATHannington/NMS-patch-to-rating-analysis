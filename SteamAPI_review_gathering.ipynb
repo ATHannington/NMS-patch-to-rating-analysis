{
 "cells": [
  {
   "cell_type": "markdown",
   "id": "6b91de60-c732-42b1-b25e-bfa6595df10e",
   "metadata": {},
   "source": [
    "# Retrieve NMS review data from Steam API"
   ]
  },
  {
   "cell_type": "code",
   "execution_count": 1,
   "id": "19f71811-c9b6-4f69-974f-41ca4a8e373a",
   "metadata": {},
   "outputs": [],
   "source": [
    "import numpy as np\n",
    "import pandas as pd\n",
    "import requests\n",
    "from requests.adapters import HTTPAdapter\n",
    "from requests.packages.urllib3.util.retry import Retry\n",
    "import urllib.parse\n",
    "import time\n",
    "from datetime import datetime\n",
    "import math\n",
    "import random\n",
    "import copy\n",
    "import os\n",
    "from tqdm import tqdm"
   ]
  },
  {
   "cell_type": "code",
   "execution_count": 2,
   "id": "5769c8f1-1929-4ffb-9e2f-836d9f19b9bc",
   "metadata": {},
   "outputs": [],
   "source": [
    "def requests_retry_session(\n",
    "    retries=3,\n",
    "    backoff_factor=0.3,\n",
    "    status_forcelist=(500, 502, 504),\n",
    "    session=None,\n",
    "):\n",
    "    \"\"\"\n",
    "    Taken verbatim from 'https://www.peterbe.com/plog/best-practice-with-retries-with-requests' by Peter Bengtsson,\n",
    "    accessed on 23/06/2025\n",
    "    \"\"\"\n",
    "    session = session or requests.Session()\n",
    "    retry = Retry(\n",
    "        total=retries,\n",
    "        read=retries,\n",
    "        connect=retries,\n",
    "        backoff_factor=backoff_factor,\n",
    "        status_forcelist=status_forcelist,\n",
    "    )\n",
    "    adapter = HTTPAdapter(max_retries=retry)\n",
    "    session.mount('http://', adapter)\n",
    "    session.mount('https://', adapter)\n",
    "    return session\n",
    "\n",
    "def requests_retry(\n",
    "    url,\n",
    "    params=[],\n",
    "    retries=3,\n",
    "    backoff_factor=0.3,\n",
    "    status_forcelist=(500, 502, 504),\n",
    "    timeout=4,\n",
    "    session=None):\n",
    "\n",
    "    \"\"\"\n",
    "    Adapted from 'https://www.peterbe.com/plog/best-practice-with-retries-with-requests' by Peter Bengtsson,\n",
    "    accessed on 23/06/2025\n",
    "    \"\"\"\n",
    "    \n",
    "    s = requests.Session()\n",
    "    # s.auth = ('user', 'pass')\n",
    "    # s.headers.update({'x-test': 'true'})\n",
    "    \n",
    "    response = requests_retry_session(\n",
    "        retries,\n",
    "        backoff_factor,\n",
    "        status_forcelist,\n",
    "        session=s).get(url,params=params,timeout=timeout)\n",
    "\n",
    "    return response"
   ]
  },
  {
   "cell_type": "code",
   "execution_count": 3,
   "id": "937ac571-999a-4ef3-8f4b-b088a5466b19",
   "metadata": {},
   "outputs": [],
   "source": [
    "def steam_appID_review_request(appid,requestFilterType,nReviewsPerPage,cursor='*',retries=3,DEBUG=False):\n",
    "\n",
    "    ## For as-of-yet unknown reasons, the Steam API for '/appreviews/:appid?' will sometimes return None data despite html request returning success (status_code==200), and data returned from Steam API returning 'success==1'.\n",
    "    ## So, here I have implemented a repeated attempt loop, that should retry the query for the current appid and review page (as defined by variable 'cursor'). On success, it should break from this attempt loop\n",
    "    ## and continue the rest of the programe.\n",
    "    ##\n",
    "    ## TODO: the error that underlies this need for a repeated attempt loop has yet to be identified. I am uncertain if this issue is arising from 'requests', 'urllib', or the Steam API.\n",
    "    success = False\n",
    "    # the params of the API\n",
    "    params = {\n",
    "            'json':1,\n",
    "            'language': 'all',\n",
    "            'cursor': cursor,                                  # set the cursor to retrieve reviews from a specific \"page\"\n",
    "            'num_per_page': nReviewsPerPage,\n",
    "            'filter': requestFilterType,\n",
    "            'date_range_type':'all',\n",
    "            'purchase_type':'all',\n",
    "            'filter_offtopic_activity':0,\n",
    "            'review_type':'all',\n",
    "            'playtime_filter_max':0\n",
    "        }\n",
    "    for ii,attempt in enumerate(range(0,retries)):\n",
    "        ## Make API request\n",
    "        appreviewsReq = requests_retry(f\"https://store.steampowered.com/appreviews/{appid}\",params,retries=retries)\n",
    "        if appreviewsReq.status_code == 200:\n",
    "            if DEBUG: print(f\"HTML 'Get' request successful.\")\n",
    "            appreviews = appreviewsReq.json()\n",
    "            if appreviews['success'] == 1:\n",
    "                if DEBUG: print(f\"API request successful. Returned data converted to json format.\")\n",
    "            else:\n",
    "                print(f\"AppID {appid} reviews request failed on page cursor={cursor}.\")\n",
    "                continue ## Retry request\n",
    "                # raise Exception(f\"AppID {appid} reviews request failed.\")\n",
    "        else:\n",
    "            print(f\"HTML 'Get' request failed with error code {appreviewsReq.status_code} on page cursor={cursor}.\")\n",
    "            continue ## Retry request\n",
    "            # raise Exception(f\"HTML 'Get' request failed with error code {appreviewsReq.status_code}.\")\n",
    "\n",
    "        ## Check there is data returned from query, or if data is None type\n",
    "        if appreviews['cursor'] is None:\n",
    "            if appreviews['reviews']:\n",
    "                print(f\"AppID {appid} review has reached final page. Finishing loop iterating over review pages!\")\n",
    "                success = True\n",
    "                break\n",
    "            else:\n",
    "                print(f\"AppID {appid} review failed, returning null data on page cursor={cursor} on attempt {ii+1} of {retries}. Will attempt next retry of request.\")\n",
    "                continue ## Retry request\n",
    "        else:\n",
    "            success = True\n",
    "            break\n",
    "\n",
    "            \n",
    "    if success==False:\n",
    "        raise Exception(f\"AppID {appid} reviews request failed on page cursor={cursor}.\"+\"\\n\"+f\"HTML 'Get' request returned code {appreviewsReq.status_code}.\")\n",
    "    \n",
    "    return appreviews"
   ]
  },
  {
   "cell_type": "markdown",
   "id": "cbd21e03-0789-4951-a005-369d1a15603c",
   "metadata": {},
   "source": [
    "## Grab initial data regarding steam app"
   ]
  },
  {
   "cell_type": "code",
   "execution_count": 4,
   "id": "912fb175-d91e-493f-83fc-2ea18d553ea1",
   "metadata": {},
   "outputs": [],
   "source": [
    "appid = 275850 # NMS app id on Steam                ##3140120 #Newly released, low number of reviews, game to test end of iteration over review pages loop in below script  ## \n",
    "nReviewsPerPage = 100 # Number of reviews per page of Steam API get request\n",
    "## Set requestFilterType\n",
    "\"\"\"\n",
    "See https://github.com/Revadike/InternalSteamWebAPI/wiki/Get-App-Reviews \n",
    "\n",
    "recent – sorted by creation time\n",
    "updated – sorted by last updated time\n",
    "all – sorted by helpfulness, with sliding windows based on day_range parameter, will always find results to return.\n",
    "summary – (default) sorted by helpfulness, strictly returns 10 reviews without paging (ignores num_per_page), represents the summary score by including reviews based on the proportion of positive to negative votes (see the corresponding blog article)\n",
    "\n",
    "If paging through the reviews with cursor then choose either the recent option or the updated option to eventually receive an empty response list.\n",
    "\"\"\"\n",
    "requestFilterType = 'updated' ## for debugging set to 'summary', otherwise set to 'updated'"
   ]
  },
  {
   "cell_type": "code",
   "execution_count": 5,
   "id": "74c036e0-5627-43be-9545-cc3c4b4077e8",
   "metadata": {},
   "outputs": [
    {
     "name": "stdout",
     "output_type": "stream",
     "text": [
      "HTML 'Get' request successful.\n",
      "API request successful. Returned data converted to json format.\n"
     ]
    }
   ],
   "source": [
    "appreviews = steam_appID_review_request(appid,requestFilterType,nReviewsPerPage,cursor='*',DEBUG=True) ## cursor='*' returns a sample from the first page of results (as determined by the rest of the request filters)."
   ]
  },
  {
   "cell_type": "code",
   "execution_count": 6,
   "id": "51d50cf8-1e4d-409b-9f9a-3646a39e093e",
   "metadata": {},
   "outputs": [
    {
     "name": "stdout",
     "output_type": "stream",
     "text": [
      "{'num_reviews': 100, 'review_score': 8, 'review_score_desc': 'Very Positive', 'total_positive': 295731, 'total_negative': 59610, 'total_reviews': 355341}\n"
     ]
    }
   ],
   "source": [
    "reviewSummary = copy.deepcopy(appreviews['query_summary'])\n",
    "print(reviewSummary)"
   ]
  },
  {
   "cell_type": "code",
   "execution_count": 7,
   "id": "e447edac-5b0e-4643-9b1a-bb162751039f",
   "metadata": {},
   "outputs": [
    {
     "name": "stdout",
     "output_type": "stream",
     "text": [
      "Number of review pages = 3554\n"
     ]
    }
   ],
   "source": [
    "numReviews = reviewSummary['total_reviews']\n",
    "numReviewPages = math.ceil(float(numReviews)/float(nReviewsPerPage))\n",
    "print(f\"Number of review pages = {numReviewPages}\")"
   ]
  },
  {
   "cell_type": "code",
   "execution_count": 8,
   "id": "af358515-b7d8-4b95-8e7c-45dff3b6387f",
   "metadata": {},
   "outputs": [],
   "source": [
    "## Desired info to pull out of the Steam API data returned.\n",
    "## Information about the review author is stored in a dictionary nested \n",
    "## within the indiviudal review's data.\n",
    "desiredDataFilters = [\n",
    "    'recommendationid',\n",
    "    {'author':\n",
    "        ['num_games_owned',\n",
    "         'num_reviews',\n",
    "         'playtime_forever',\n",
    "         'playtime_last_two_weeks',\n",
    "         'playtime_at_review',\n",
    "         'last_played']\n",
    "    },\n",
    "   'language',\n",
    "   'review',\n",
    "   'timestamp_created',\n",
    "   'timestamp_updated',\n",
    "   'voted_up',\n",
    "   'votes_up',\n",
    "   'votes_funny',\n",
    "   'weighted_vote_score',\n",
    "   'comment_count',\n",
    "   'steam_purchase',\n",
    "   'received_for_free',\n",
    "   'written_during_early_access',\n",
    "   'primarily_steam_deck',\n",
    "]"
   ]
  },
  {
   "cell_type": "markdown",
   "id": "2f35132e-e3d4-4fd7-834c-22d96924076b",
   "metadata": {},
   "source": [
    "## Begin gathering review data"
   ]
  },
  {
   "cell_type": "markdown",
   "id": "e4dc8b5e-2fba-491f-b6a5-78298ef1eb87",
   "metadata": {},
   "source": [
    "Configuration parameters"
   ]
  },
  {
   "cell_type": "code",
   "execution_count": 9,
   "id": "71ec6430-75eb-4970-a6c8-a34efbf7119f",
   "metadata": {},
   "outputs": [],
   "source": [
    "savePath = \"./Data/\"\n",
    "saveFile = \"SteamAPI_NMS_reviews.xlsx\" ##   If needed for short number of reviews test... #\"TEST--SteamAPI_RAND-GAME_reviews.xlsx\"\n",
    "retries = 3\n",
    "rowsPerOutputFile = 75000"
   ]
  },
  {
   "cell_type": "code",
   "execution_count": 10,
   "id": "7ed41bb8-3561-4449-b53b-6b686eac946a",
   "metadata": {},
   "outputs": [],
   "source": [
    "def write_to_excel(df,savePath,saveFile):\n",
    "    tmp = \"\"\n",
    "    for savePathChunk in savePath.split(\"/\")[:-1]:\n",
    "        tmp += savePathChunk + \"/\"\n",
    "        try:\n",
    "            os.mkdir(tmp)\n",
    "        except:\n",
    "            pass\n",
    "\n",
    "    path = savePath+saveFile\n",
    "    with pd.ExcelWriter(path=path,mode=\"w\") as writer:\n",
    "        df.to_excel(writer,engine='xlsxwriter')\n",
    "    print(f\"{path}\")\n",
    "    return"
   ]
  },
  {
   "cell_type": "code",
   "execution_count": 11,
   "id": "ed921a6d-945f-4fd2-bf65-1f7bec65570c",
   "metadata": {},
   "outputs": [],
   "source": [
    "def remove_illegal_characters(df):\n",
    "    return df.map(lambda x: x.encode('unicode_escape').decode('utf-8') if isinstance(x, str) else x)"
   ]
  },
  {
   "cell_type": "code",
   "execution_count": 12,
   "id": "2c8e1805-d9b9-4212-acb6-00237cb91c1f",
   "metadata": {},
   "outputs": [
    {
     "name": "stderr",
     "output_type": "stream",
     "text": [
      " 21%|███████████████████▏                                                                       | 750/3554 [14:13<1:21:43,  1.75s/it]"
     ]
    },
    {
     "name": "stdout",
     "output_type": "stream",
     "text": [
      "Current data size of 75095 x Rows has exceeded requested rows per output file length of 75000.\n",
      "Writing current data to file before proceeding!\n"
     ]
    },
    {
     "name": "stderr",
     "output_type": "stream",
     "text": [
      " 21%|███████████████████▏                                                                       | 751/3554 [14:36<6:15:35,  8.04s/it]"
     ]
    },
    {
     "name": "stdout",
     "output_type": "stream",
     "text": [
      "./Data/SteamAPI_NMS_reviews001.xlsx\n"
     ]
    },
    {
     "name": "stderr",
     "output_type": "stream",
     "text": [
      " 42%|█████████████████████████████████████▉                                                    | 1500/3554 [28:02<1:01:11,  1.79s/it]"
     ]
    },
    {
     "name": "stdout",
     "output_type": "stream",
     "text": [
      "Current data size of 75000 x Rows has exceeded requested rows per output file length of 75000.\n",
      "Writing current data to file before proceeding!\n"
     ]
    },
    {
     "name": "stderr",
     "output_type": "stream",
     "text": [
      " 42%|██████████████████████████████████████                                                    | 1501/3554 [28:23<4:25:31,  7.76s/it]"
     ]
    },
    {
     "name": "stdout",
     "output_type": "stream",
     "text": [
      "./Data/SteamAPI_NMS_reviews002.xlsx\n"
     ]
    },
    {
     "name": "stderr",
     "output_type": "stream",
     "text": [
      " 63%|██████████████████████████████████████████████████████████▏                                 | 2250/3554 [43:45<55:27,  2.55s/it]"
     ]
    },
    {
     "name": "stdout",
     "output_type": "stream",
     "text": [
      "Current data size of 75000 x Rows has exceeded requested rows per output file length of 75000.\n",
      "Writing current data to file before proceeding!\n"
     ]
    },
    {
     "name": "stderr",
     "output_type": "stream",
     "text": [
      " 63%|█████████████████████████████████████████████████████████                                 | 2251/3554 [44:07<3:03:32,  8.45s/it]"
     ]
    },
    {
     "name": "stdout",
     "output_type": "stream",
     "text": [
      "./Data/SteamAPI_NMS_reviews003.xlsx\n"
     ]
    },
    {
     "name": "stderr",
     "output_type": "stream",
     "text": [
      " 66%|████████████████████████████████████████████████████████████▋                               | 2342/3554 [45:13<13:29,  1.50it/s]"
     ]
    },
    {
     "name": "stdout",
     "output_type": "stream",
     "text": [
      "AppID 275850 review failed, returning null data on page cursor=AoJ4jqKgr/ECfL6x/wE= on attempt 1 of 3. Will attempt next retry of request.\n"
     ]
    },
    {
     "name": "stderr",
     "output_type": "stream",
     "text": [
      " 66%|████████████████████████████████████████████████████████████▋                               | 2346/3554 [45:16<14:05,  1.43it/s]"
     ]
    },
    {
     "name": "stdout",
     "output_type": "stream",
     "text": [
      "AppID 275850 review failed, returning null data on page cursor=AoJwp7KarPECfoqL/wE= on attempt 1 of 3. Will attempt next retry of request.\n"
     ]
    },
    {
     "name": "stderr",
     "output_type": "stream",
     "text": [
      " 69%|███████████████████████████████████████████████████████████████▉                            | 2468/3554 [46:55<16:31,  1.10it/s]"
     ]
    },
    {
     "name": "stdout",
     "output_type": "stream",
     "text": [
      "AppID 275850 review failed, returning null data on page cursor=AoJ4joGD7+4Cfq7E4gE= on attempt 1 of 3. Will attempt next retry of request.\n"
     ]
    },
    {
     "name": "stderr",
     "output_type": "stream",
     "text": [
      " 84%|███████████████████████████████████████████████████████████████████████████▉              | 3001/3554 [1:01:05<24:13,  2.63s/it]"
     ]
    },
    {
     "name": "stdout",
     "output_type": "stream",
     "text": [
      "Current data size of 75099 x Rows has exceeded requested rows per output file length of 75000.\n",
      "Writing current data to file before proceeding!\n"
     ]
    },
    {
     "name": "stderr",
     "output_type": "stream",
     "text": [
      " 84%|██████████████████████████████████████████████████████████████████████████▎             | 3002/3554 [1:01:33<1:34:35, 10.28s/it]"
     ]
    },
    {
     "name": "stdout",
     "output_type": "stream",
     "text": [
      "./Data/SteamAPI_NMS_reviews004.xlsx\n"
     ]
    },
    {
     "name": "stderr",
     "output_type": "stream",
     "text": [
      " 89%|███████████████████████████████████████████████████████████████████████████████▊          | 3154/3554 [1:03:20<04:30,  1.48it/s]"
     ]
    },
    {
     "name": "stdout",
     "output_type": "stream",
     "text": [
      "AppID 275850 review failed, returning null data on page cursor=AoJ4m+DvrdcCc6fmXg== on attempt 1 of 3. Will attempt next retry of request.\n"
     ]
    },
    {
     "name": "stderr",
     "output_type": "stream",
     "text": [
      " 99%|█████████████████████████████████████████████████████████████████████████████████████████▎| 3528/3554 [1:11:22<00:41,  1.58s/it]"
     ]
    },
    {
     "name": "stdout",
     "output_type": "stream",
     "text": [
      "AppID 275850 review failed, returning null data on page cursor=AoJwgqKYwNYCcfPmXg== on attempt 1 of 3. Will attempt next retry of request.\n"
     ]
    },
    {
     "name": "stderr",
     "output_type": "stream",
     "text": [
      "100%|██████████████████████████████████████████████████████████████████████████████████████████| 3554/3554 [1:12:04<00:00,  1.22s/it]\n"
     ]
    },
    {
     "name": "stdout",
     "output_type": "stream",
     "text": [
      "./Data/SteamAPI_NMS_reviews005.xlsx\n"
     ]
    }
   ],
   "source": [
    "reviewData = {}\n",
    "cursor = '*'\n",
    "saveFileCounter = 0 # counter to track savefile number\n",
    "## Loop over each review page\n",
    "for page in tqdm(range(1,numReviewPages+1)):\n",
    "    ## Reduce request frequency in less 'robotic' fashion to prevent sites blocking access\n",
    "    time.sleep(random.uniform(0.0,2.0)/100) ## 0 -- 20 milli-seconds \n",
    "    \n",
    "    ## request current page number for reviews\n",
    "    rawData = steam_appID_review_request(appid,requestFilterType,nReviewsPerPage,cursor,retries=retries)\n",
    "\n",
    "    ## Double check that returned data has provided the required information to locate the next page of reviews.\n",
    "    ## This *should* be caught by repeated attempts at the query, and other checks and balances internal to 'steam_appID_review_request()'\n",
    "    if rawData['cursor'] is None: \n",
    "        print(f\"AppID {appid} review returned null data on page cursor={cursor}.\")\n",
    "        if rawData['reviews']:\n",
    "            print(f\"AppID {appid} review has reached final page. Finishing loop iterating over review pages!\")\n",
    "            break\n",
    "        else:\n",
    "            raise Exception(f\"Function 'steam_appID_review_request()' returned data with 'cursor' == None.\"+ \n",
    "                \"\\n\"+f\"Previous cursor {cursor} from iteration/page number {page} of {numReviewPages}.\")\n",
    "       \n",
    "    ## Obtain url format of cursor for review page itteration\n",
    "    cursor = str(rawData['cursor']) ## urllib.parse.quote_plus()\n",
    "    \n",
    "    ## Iterate through reviews on this page\n",
    "    for entry in rawData['reviews']:\n",
    "        reviewDataKeys = list(reviewData.keys())\n",
    "        ## For each review, collect data from 'desiredDataFilters' list of keys\n",
    "        for item in desiredDataFilters:\n",
    "            ## Default case, 'desiredDataFilters' entry will be a simple string\n",
    "            if type(item) == str:\n",
    "                try:\n",
    "                    ## If data exists, will continue to extract and save\n",
    "                    dat = copy.copy(entry[item])\n",
    "                except:\n",
    "                    ## If data doesn't exist, create NA value. This ensures all columns in final dataframe are same length, else pandas will raise an error.\n",
    "                    dat = pd.NA        \n",
    "                    \n",
    "                if item in reviewDataKeys:\n",
    "                    ## If we've seen this entry from 'desiredDataFilters' before, take the current data\n",
    "                    ## stored in reviewData[item] and append the next value from the current review on\n",
    "                    ## current page\n",
    "                    value = reviewData[item]\n",
    "                    newValue = value + [dat]\n",
    "                    reviewData[item] = newValue\n",
    "                else:\n",
    "                    ## If we haven't seen this entry from 'desiredDataFilters' before, initialise a new list\n",
    "                    value = dat\n",
    "                    reviewData[item] = [value]\n",
    "\n",
    "            ## Same code as above, but reflects that in the data structure returned from the Steam API\n",
    "            ## information about the review author is stored in a dictionary nested within the indiviudal \n",
    "            ## review's data\n",
    "            elif type(item) == dict:\n",
    "                for key, val in item.items():\n",
    "                    for innerKey in val:\n",
    "                        try:\n",
    "                            ## If data exists, will continue to extract and save\n",
    "                            dat = copy.copy(entry[key][innerKey])\n",
    "                        except:\n",
    "                            ## If data doesn't exist, create NA value. This ensures all columns in final dataframe are same length, else pandas will raise an error.\n",
    "                            dat = pd.NA      \n",
    "                            \n",
    "                        if innerKey in reviewDataKeys:\n",
    "                            value = reviewData[innerKey]\n",
    "                            newValue = value + [dat]\n",
    "                            reviewData[innerKey] = newValue\n",
    "                        else:\n",
    "                            value = dat\n",
    "                            reviewData[innerKey] = [value]\n",
    "\n",
    "    try:\n",
    "        nRows = len(reviewData[desiredDataFilters[0]])\n",
    "    except: \n",
    "        nRows = 0\n",
    "        \n",
    "    if nRows>=rowsPerOutputFile:\n",
    "        print(f\"Current data size of {nRows} x Rows has exceeded requested rows per output file length of {rowsPerOutputFile}.\"\n",
    "             +\"\\n\"\n",
    "             +f\"Writing current data to file before proceeding!\")\n",
    "        saveFileCounter += 1  ## Increase counter to track savefile number\n",
    "\n",
    "        ## Create pandas dataframe and update to datetime format\n",
    "        df = pd.DataFrame.from_dict(reviewData)\n",
    "        df = df.astype({'timestamp_created':\"datetime64[s]\",'timestamp_updated':\"datetime64[s]\"})\n",
    "        ## Clean illegal characters\n",
    "        df = remove_illegal_characters(df)\n",
    "        \n",
    "        ## Proper filename for current savefile number\n",
    "        name, fileExt = saveFile.split('.')\n",
    "        currentSaveFile = name + str(saveFileCounter).zfill(3) + '.' + fileExt\n",
    "        write_to_excel(df,savePath,currentSaveFile)\n",
    "\n",
    "        ## Clear current data residing in RAM\n",
    "        del reviewData\n",
    "        reviewData = {}\n",
    "\n",
    "## Clear up final chunk of data by saving to file\n",
    "try:\n",
    "    nRows = len(reviewData[desiredDataFilters[0]])\n",
    "except: \n",
    "    nRows = 0\n",
    "    \n",
    "if nRows>=1 :\n",
    "    saveFileCounter += 1  ## Increase counter to track savefile number\n",
    "    \n",
    "    ## Create pandas dataframe and update to datetime format\n",
    "    df = pd.DataFrame.from_dict(reviewData)\n",
    "    df = df.astype({'timestamp_created':\"datetime64[s]\",'timestamp_updated':\"datetime64[s]\"})\n",
    "    ## Clean illegal characters\n",
    "    df = remove_illegal_characters(df)\n",
    "    \n",
    "    ## Proper filename for current savefile number\n",
    "    name, fileExt = saveFile.split('.')\n",
    "    currentSaveFile = name + str(saveFileCounter).zfill(3) + '.' + fileExt\n",
    "    write_to_excel(df,savePath,currentSaveFile)"
   ]
  },
  {
   "cell_type": "code",
   "execution_count": null,
   "id": "3d0ec34a-3018-4b9c-9930-e368acbccb13",
   "metadata": {},
   "outputs": [],
   "source": []
  }
 ],
 "metadata": {
  "kernelspec": {
   "display_name": "Python 3 (ipykernel)",
   "language": "python",
   "name": "python3"
  },
  "language_info": {
   "codemirror_mode": {
    "name": "ipython",
    "version": 3
   },
   "file_extension": ".py",
   "mimetype": "text/x-python",
   "name": "python",
   "nbconvert_exporter": "python",
   "pygments_lexer": "ipython3",
   "version": "3.12.3"
  }
 },
 "nbformat": 4,
 "nbformat_minor": 5
}
