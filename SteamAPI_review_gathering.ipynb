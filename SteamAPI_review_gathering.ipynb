{
 "cells": [
  {
   "cell_type": "markdown",
   "id": "6b91de60-c732-42b1-b25e-bfa6595df10e",
   "metadata": {},
   "source": [
    "# Retrieve NMS review data from Steam API"
   ]
  },
  {
   "cell_type": "code",
   "execution_count": 1,
   "id": "19f71811-c9b6-4f69-974f-41ca4a8e373a",
   "metadata": {},
   "outputs": [],
   "source": [
    "import numpy as np\n",
    "import pandas as pd\n",
    "import requests\n",
    "from requests.adapters import HTTPAdapter\n",
    "from requests.packages.urllib3.util.retry import Retry\n",
    "import urllib.parse\n",
    "import time\n",
    "from datetime import datetime\n",
    "import math\n",
    "import random\n",
    "import copy\n",
    "import os\n",
    "from tqdm import tqdm"
   ]
  },
  {
   "cell_type": "code",
   "execution_count": 2,
   "id": "5769c8f1-1929-4ffb-9e2f-836d9f19b9bc",
   "metadata": {},
   "outputs": [],
   "source": [
    "def requests_retry_session(\n",
    "    retries=3,\n",
    "    backoff_factor=0.3,\n",
    "    status_forcelist=(500, 502, 504),\n",
    "    session=None,\n",
    "):\n",
    "    \"\"\"\n",
    "    Taken verbatim from 'https://www.peterbe.com/plog/best-practice-with-retries-with-requests' by Peter Bengtsson,\n",
    "    accessed on 23/06/2025\n",
    "    \"\"\"\n",
    "    session = session or requests.Session()\n",
    "    retry = Retry(\n",
    "        total=retries,\n",
    "        read=retries,\n",
    "        connect=retries,\n",
    "        backoff_factor=backoff_factor,\n",
    "        status_forcelist=status_forcelist,\n",
    "    )\n",
    "    adapter = HTTPAdapter(max_retries=retry)\n",
    "    session.mount('http://', adapter)\n",
    "    session.mount('https://', adapter)\n",
    "    return session\n",
    "\n",
    "def requests_retry(\n",
    "    url,\n",
    "    retries=3,\n",
    "    backoff_factor=0.3,\n",
    "    status_forcelist=(500, 502, 504),\n",
    "    session=None):\n",
    "\n",
    "    \"\"\"\n",
    "    Adapted from 'https://www.peterbe.com/plog/best-practice-with-retries-with-requests' by Peter Bengtsson,\n",
    "    accessed on 23/06/2025\n",
    "    \"\"\"\n",
    "    \n",
    "    s = requests.Session()\n",
    "    s.auth = ('user', 'pass')\n",
    "    s.headers.update({'x-test': 'true'})\n",
    "    \n",
    "    response = requests_retry_session(\n",
    "        retries,\n",
    "        backoff_factor,\n",
    "        status_forcelist,\n",
    "        session=s).get(url)\n",
    "\n",
    "    return response"
   ]
  },
  {
   "cell_type": "code",
   "execution_count": 3,
   "id": "937ac571-999a-4ef3-8f4b-b088a5466b19",
   "metadata": {},
   "outputs": [],
   "source": [
    "def steam_appID_review_request(appid,requestFilterType,nReviewsPerPage,cursor='*',DEBUG=False):\n",
    "    ## Make API request\n",
    "    appreviewsReq = requests_retry(f\"https://store.steampowered.com/appreviews/{appid}?cursor={cursor}&json=1&date_range_type=all&filter={requestFilterType}&language=all&l=english&review_type=all&purchase_type=all&playtime_filter_min=0&playtime_filter_max=0&filter_offtopic_activity=0&num_per_page={nReviewsPerPage}\")\n",
    "    if appreviewsReq.status_code == 200:\n",
    "        if DEBUG: print(f\"HTML 'Get' request successful.\")\n",
    "        appreviews = appreviewsReq.json()\n",
    "        if appreviews['success'] == 1:\n",
    "            if DEBUG: print(f\"API request successful. Returned data converted to json format.\")\n",
    "        else:\n",
    "            raise Exception(f\"AppID {appid} reviews request failed.\")\n",
    "    else:\n",
    "        raise Exception(f\"HTML 'Get' request failed with error code {appreviewsReq.status_code}.\")\n",
    "    \n",
    "    return appreviews"
   ]
  },
  {
   "cell_type": "markdown",
   "id": "cbd21e03-0789-4951-a005-369d1a15603c",
   "metadata": {},
   "source": [
    "## Grab initial data regarding steam app"
   ]
  },
  {
   "cell_type": "code",
   "execution_count": 4,
   "id": "912fb175-d91e-493f-83fc-2ea18d553ea1",
   "metadata": {},
   "outputs": [],
   "source": [
    "appid = 275850 # NMS app id on Steam\n",
    "nReviewsPerPage = 20 # Number of reviews per page of Steam API get request\n",
    "## Set requestFilterType\n",
    "\"\"\"\n",
    "See https://github.com/Revadike/InternalSteamWebAPI/wiki/Get-App-Reviews \n",
    "\n",
    "recent – sorted by creation time\n",
    "updated – sorted by last updated time\n",
    "all – sorted by helpfulness, with sliding windows based on day_range parameter, will always find results to return.\n",
    "summary – (default) sorted by helpfulness, strictly returns 10 reviews without paging (ignores num_per_page), represents the summary score by including reviews based on the proportion of positive to negative votes (see the corresponding blog article)\n",
    "\n",
    "If paging through the reviews with cursor then choose either the recent option or the updated option to eventually receive an empty response list.\n",
    "\"\"\"\n",
    "requestFilterType = 'updated' ## for debugging set to 'summary', otherwise set to 'updated'"
   ]
  },
  {
   "cell_type": "code",
   "execution_count": 5,
   "id": "74c036e0-5627-43be-9545-cc3c4b4077e8",
   "metadata": {},
   "outputs": [
    {
     "name": "stdout",
     "output_type": "stream",
     "text": [
      "HTML 'Get' request successful.\n",
      "API request successful. Returned data converted to json format.\n"
     ]
    }
   ],
   "source": [
    "appreviews = steam_appID_review_request(appid,requestFilterType,nReviewsPerPage,cursor='*',DEBUG=True)"
   ]
  },
  {
   "cell_type": "code",
   "execution_count": 6,
   "id": "51d50cf8-1e4d-409b-9f9a-3646a39e093e",
   "metadata": {},
   "outputs": [
    {
     "name": "stdout",
     "output_type": "stream",
     "text": [
      "{'num_reviews': 20, 'review_score': 8, 'review_score_desc': 'Very Positive', 'total_positive': 295140, 'total_negative': 59594, 'total_reviews': 354734}\n"
     ]
    }
   ],
   "source": [
    "reviewSummary = copy.deepcopy(appreviews['query_summary'])\n",
    "print(reviewSummary)"
   ]
  },
  {
   "cell_type": "code",
   "execution_count": 7,
   "id": "e447edac-5b0e-4643-9b1a-bb162751039f",
   "metadata": {},
   "outputs": [
    {
     "name": "stdout",
     "output_type": "stream",
     "text": [
      "Number of review pages = 17737\n"
     ]
    }
   ],
   "source": [
    "numReviews = reviewSummary['total_reviews']\n",
    "numReviewPages = math.ceil(float(numReviews)/float(nReviewsPerPage))\n",
    "print(f\"Number of review pages = {numReviewPages}\")"
   ]
  },
  {
   "cell_type": "code",
   "execution_count": 8,
   "id": "af358515-b7d8-4b95-8e7c-45dff3b6387f",
   "metadata": {},
   "outputs": [],
   "source": [
    "## Desired info to pull out of the Steam API data returned.\n",
    "## Information about the review author is stored in a dictionary nested \n",
    "## within the indiviudal review's data.\n",
    "desiredDataFilters = [\n",
    "    'recommendationid',\n",
    "    {'author':\n",
    "        ['num_games_owned',\n",
    "         'num_reviews',\n",
    "         'playtime_forever',\n",
    "         'playtime_last_two_weeks',\n",
    "         'playtime_at_review',\n",
    "         'last_played']\n",
    "    },\n",
    "   'timestamp_created',\n",
    "   'timestamp_updated',\n",
    "   'voted_up',\n",
    "   'votes_up',\n",
    "   'votes_funny',\n",
    "   'weighted_vote_score',\n",
    "   'comment_count',\n",
    "   'steam_purchase',\n",
    "   'received_for_free',\n",
    "   'written_during_early_access',\n",
    "   'primarily_steam_deck',\n",
    "]"
   ]
  },
  {
   "cell_type": "markdown",
   "id": "2f35132e-e3d4-4fd7-834c-22d96924076b",
   "metadata": {},
   "source": [
    "## Begin gathering review data"
   ]
  },
  {
   "cell_type": "code",
   "execution_count": null,
   "id": "2c8e1805-d9b9-4212-acb6-00237cb91c1f",
   "metadata": {},
   "outputs": [
    {
     "name": "stderr",
     "output_type": "stream",
     "text": [
      "  1%|▉                                                                            | 216/17737 [01:59<2:52:49,  1.69it/s]"
     ]
    }
   ],
   "source": [
    "reviewData = {}\n",
    "cursor = \"*\"\n",
    "## Loop over each review page\n",
    "for page in tqdm(range(1,numReviewPages+1)):\n",
    "    ## Reduce request frequency in less 'robotic' fashion to prevent sites blocking access\n",
    "    time.sleep(random.uniform(0.0,3.0)/1000)\n",
    "    \n",
    "    ## request current page number for reviews\n",
    "    rawData = steam_appID_review_request(appid,requestFilterType,nReviewsPerPage,cursor)\n",
    "\n",
    "    ## Obtain url format of cursor for review page itteration\n",
    "    cursor = urllib.parse.quote_plus(rawData['cursor'])\n",
    "    \n",
    "    ## Iterate through reviews on this page\n",
    "    for review in rawData['reviews']:\n",
    "        ## For each review, collect data from 'desiredDataFilters' list of keys\n",
    "        for item in desiredDataFilters:\n",
    "            ## Default case, 'desiredDataFilters' entry will be a simple string\n",
    "            if type(item) == str:\n",
    "                if item in list(reviewData.keys()):\n",
    "                    ## If we've seen this entry from 'desiredDataFilters' before, take the current data\n",
    "                    ## stored in reviewData[item] and append the next value from the current review on\n",
    "                    ## current page\n",
    "                    value = copy.deepcopy(reviewData[item])\n",
    "                    newValue = value + [copy.deepcopy(review[item])]\n",
    "                    reviewData[item] = newValue\n",
    "                else:\n",
    "                    ## If we haven't seen this entry from 'desiredDataFilters' before, initialise a new list\n",
    "                    value = copy.deepcopy(review[item])\n",
    "                    reviewData[item] = [value]\n",
    "            ## Same code as above, but reflects that in the data structure returned from the Steam API\n",
    "            ## information about the review author is stored in a dictionary nested within the indiviudal \n",
    "            ## review's data\n",
    "            elif type(item) == dict:\n",
    "                for key, val in item.items():\n",
    "                    for innerKey in val:\n",
    "                        if innerKey in list(reviewData.keys()):\n",
    "                            value = copy.deepcopy(reviewData[innerKey])\n",
    "                            newValue = value + [copy.deepcopy(review[key][innerKey])]\n",
    "                            reviewData[innerKey] = newValue\n",
    "                        else:\n",
    "                            value = copy.deepcopy(review[key][innerKey])\n",
    "                            reviewData[innerKey] = [value]"
   ]
  },
  {
   "cell_type": "code",
   "execution_count": null,
   "id": "92316269-ce5b-4671-833e-7ee2d4254cec",
   "metadata": {},
   "outputs": [],
   "source": [
    "df = pd.DataFrame.from_dict(reviewData)\n",
    "df = df.astype({'timestamp_created':\"datetime64[s]\",'timestamp_updated':\"datetime64[s]\"})\n",
    "df"
   ]
  },
  {
   "cell_type": "code",
   "execution_count": null,
   "id": "71ec6430-75eb-4970-a6c8-a34efbf7119f",
   "metadata": {},
   "outputs": [],
   "source": [
    "savePath = \"./Data/\"\n",
    "saveFile = \"SteamAPI_NMS_reviews.xlsx\"\n",
    "\n",
    "tmp = \"\"\n",
    "for savePathChunk in savePath.split(\"/\")[:-1]:\n",
    "    tmp += savePathChunk + \"/\"\n",
    "    try:\n",
    "        os.mkdir(tmp)\n",
    "    except:\n",
    "        pass\n",
    "\n",
    "with pd.ExcelWriter(path=savePath+saveFile,mode=\"w\") as writer:\n",
    "    df.to_excel(writer)"
   ]
  },
  {
   "cell_type": "code",
   "execution_count": null,
   "id": "46647711-912d-432b-92ad-3fae4340f7a2",
   "metadata": {},
   "outputs": [],
   "source": []
  }
 ],
 "metadata": {
  "kernelspec": {
   "display_name": "Python 3 (ipykernel)",
   "language": "python",
   "name": "python3"
  },
  "language_info": {
   "codemirror_mode": {
    "name": "ipython",
    "version": 3
   },
   "file_extension": ".py",
   "mimetype": "text/x-python",
   "name": "python",
   "nbconvert_exporter": "python",
   "pygments_lexer": "ipython3",
   "version": "3.12.3"
  }
 },
 "nbformat": 4,
 "nbformat_minor": 5
}
