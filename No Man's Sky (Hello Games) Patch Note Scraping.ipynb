{
 "cells": [
  {
   "cell_type": "markdown",
   "id": "9a15598c-aeda-4a99-b35c-f4e2b1a6e323",
   "metadata": {},
   "source": [
    "# No Man's Sky (Hello Games) Patch Note Scraping"
   ]
  },
  {
   "cell_type": "code",
   "execution_count": 16,
   "id": "c70a3f98",
   "metadata": {},
   "outputs": [],
   "source": [
    "import numpy as np\n",
    "import pandas as pd\n",
    "import matplotlib.pyplot as plt\n",
    "import h5py\n",
    "import json\n",
    "import requests\n",
    "import re\n",
    "import time\n",
    "import random\n",
    "import copy\n",
    "from tqdm import tqdm\n",
    "from bs4 import BeautifulSoup, SoupStrainer\n",
    "from bs4.diagnose import diagnose"
   ]
  },
  {
   "cell_type": "code",
   "execution_count": 26,
   "id": "09593167",
   "metadata": {},
   "outputs": [],
   "source": [
    "def get_patch_page_urls(\n",
    "    url=\"https://www.nomanssky.com/\",\n",
    "    releaseLogPage=\"/release-log/\",\n",
    "    patchNoteSection=(\"a\",\"link link--inherit\")\n",
    "):\n",
    "    \n",
    "    page = requests.get(url+releaseLogPage)\n",
    "    soup = BeautifulSoup(page.content, \"html.parser\")\n",
    "\n",
    "    ## Grab the list of individual patch release pages \n",
    "    if len(patchNoteSection)==1:\n",
    "        htmlTarget = patchNoteSection[0]\n",
    "        patchPages = soup.find_all(htmlTarget, href=True)\n",
    "    elif len(patchNoteSection)==2:\n",
    "        htmlTarget = patchNoteSection[0]\n",
    "        htmlClass = patchNoteSection[1]\n",
    "        patchPages = soup.find_all(htmlTarget, class_=htmlClass) \n",
    "    else:\n",
    "        raise ValueError(\"Invalid patchNoteSection format.\")\n",
    "     \n",
    "    links = [patch.get(\"href\") for patch in patchPages]\n",
    "\n",
    "    return links\n",
    "\n",
    "def _class_not_patch_note_button(class_):\n",
    "    if not class_:\n",
    "        return True  # Exclude elements with no class\n",
    "    \n",
    "    if isinstance(class_, list):\n",
    "        if (set(class_) == {\"btn\", \"btn--primary\"}): \n",
    "            return False  # Exclude exact match\n",
    "        if (\"btn\" in class_ and \"btn--primary\" in class_): \n",
    "            return False  # Exclude if both are present\n",
    "    \n",
    "    return class_ != \"btn btn--primary\"  # Extra safety for unexpected cases\n",
    "\n",
    "def get_patch_notes_from_page(\n",
    "    patchPageUrl,\n",
    "    baseUrl=\"https://www.nomanssky.com/\",\n",
    "    identifyPatchNotesString=\"Patch Notes\",\n",
    "    identifyBugFixesString=\"Bug Fixes\"\n",
    "):\n",
    "    output = {\n",
    "        \"Title\": None,\n",
    "        \"Month\": None,\n",
    "        \"Year\": None,\n",
    "        \"Notes\": None,\n",
    "        \"Patch update\": False,\n",
    "        \"Bug fix update\": False,\n",
    "        \"Scrape error\": False\n",
    "    }\n",
    "\n",
    "    try:\n",
    "        output[\"Year\"], output[\"Month\"], output[\"Title\"] = patchPageUrl[1:-1].split(\"/\")\n",
    "    except:\n",
    "        title = patchPageUrl[1:-1].split(\"/\")\n",
    "\n",
    "        if type(title)==list:\n",
    "            output[\"Title\"] = title[0]\n",
    "        else:\n",
    "            output[\"Title\"] = title\n",
    "        output[\"Scrape error\"] = True\n",
    "        \n",
    "    page = requests.get(baseUrl+patchPageUrl)\n",
    "    soup = BeautifulSoup(page.content, \"html.parser\")\n",
    "\n",
    "    ## Retrieve all elements that contain the patch notes string\n",
    "    all_notes = soup.find_all(string=re.compile(identifyPatchNotesString, flags=re.IGNORECASE))\n",
    "    # print(\"all_notes:\", all_notes) # Debugging step\n",
    "    \n",
    "    ## Filter out elements with \"btn btn--primary\"\n",
    "    noteSection = [tag for tag in all_notes if _class_not_patch_note_button(tag.parent.get(\"class\"))]  \n",
    "    # print(\"Final Filtered NoteSection:\", noteSection)  # Debugging step\n",
    "\n",
    "    ## If no Patch Notes info has been found, try scraping for bug fix notes instead\n",
    "    if not noteSection:\n",
    "        output[\"Bug fix update\"] = True\n",
    "        ## Retrieve all elements that contain the bug fix string\n",
    "        all_notes = soup.find_all(string=re.compile(identifyBugFixesString, flags=re.IGNORECASE))\n",
    "        # print(\"all_notes:\", all_notes) # Debugging step\n",
    "        ## Filter out elements with \"btn btn--primary\"\n",
    "        noteSection = [tag for tag in all_notes if _class_not_patch_note_button(tag.parent.get(\"class\"))]  \n",
    "        # print(\"Final Filtered NoteSection:\", noteSection)  # Debugging step\n",
    "    else:\n",
    "        output[\"Patch update\"] = True\n",
    "\n",
    "    ## Now that we've located the relevant section of the page, let us go\n",
    "    ##  back up the beautiful soup html tree, to identify the notes that follow\n",
    "    notes = []\n",
    "    for nn in noteSection:\n",
    "        ## We need to climb several levels. At least one for the string itself, one for the placeholder of that string on page\n",
    "        ##  and one more for that page section. However, there may be more, hence the while loop.\n",
    "        ## Finally, we should find the section containing the patch/bug fix notes\n",
    "\n",
    "        parentLevel = 0\n",
    "        pageSection = nn.parent\n",
    "        search = pageSection.find_all(\"li\")\n",
    "        # print(pageSection)\n",
    "        while ((parentLevel <=5)&(len(search)<=3)):\n",
    "            # print(\"\\n\")\n",
    "            # print(pageSection)\n",
    "            newSection = pageSection.parent\n",
    "            search = newSection.find_all(\"li\")\n",
    "            pageSection = newSection\n",
    "            parentLevel+=1\n",
    "\n",
    "        # print(parentLevel)\n",
    "        # print(len(search))\n",
    "        for ee in pageSection.stripped_strings:\n",
    "            notes.append(repr(ee))\n",
    "\n",
    "    if not notes:\n",
    "        output[\"Scrape error\"] = True\n",
    "        \n",
    "    output[\"Notes\"] = \"\\n\".join(notes)\n",
    "    return output\n",
    "\n",
    "def get_patch_notes(\n",
    "    url=\"https://www.nomanssky.com/\",\n",
    "    releaseLogPage=\"/release-log/\",\n",
    "    patchNoteSection=(\"a\",\"link link--inherit\"),\n",
    "    identifyPatchNotesString=\"Patch Notes\",\n",
    "    identifyBugFixesString=\"Bug Fixes\"):\n",
    "\n",
    "    out = {}\n",
    "    print(f\"Finding individual patch release pages from {url+releaseLogPage} ...\")\n",
    "    patchPages = get_patch_page_urls(\n",
    "        url=url,\n",
    "        releaseLogPage=releaseLogPage,\n",
    "        patchNoteSection=patchNoteSection\n",
    "    )\n",
    "\n",
    "    nPages = len(patchPages)\n",
    "    print(f\"Found {nPages} individual patch release pages!\")\n",
    "    print(f\"Scraping patch notes...\")\n",
    "    print(\"foo! Debugging page limiter still on!!!\")\n",
    "    for ii,page in tqdm(enumerate(patchPages[0:3]),total=nPages):\n",
    "        ## Reduce request frequency in less 'robotic' fashion to prevent sites blocking access\n",
    "        time.sleep(random.randint(0,3))\n",
    "        notes = get_patch_notes_from_page(\n",
    "            patchPageUrl=page,\n",
    "            baseUrl=url,\n",
    "            identifyPatchNotesString=identifyPatchNotesString,\n",
    "            identifyBugFixesString=identifyBugFixesString\n",
    "        )\n",
    "        out[ii] = copy.deepcopy(notes)\n",
    "\n",
    "    return out"
   ]
  },
  {
   "cell_type": "markdown",
   "id": "9f328d34-187f-41be-834c-2cc87f9878dd",
   "metadata": {},
   "source": [
    "## Main"
   ]
  },
  {
   "cell_type": "code",
   "execution_count": 27,
   "id": "f1328331",
   "metadata": {},
   "outputs": [
    {
     "name": "stdout",
     "output_type": "stream",
     "text": [
      "Finding individual patch release pages from https://www.nomanssky.com//release-log/ ...\n",
      "Found 238 individual patch release pages!\n",
      "Scraping patch notes...\n",
      "foo! Debugging page limiter still on!!!\n"
     ]
    },
    {
     "name": "stderr",
     "output_type": "stream",
     "text": [
      "  1%|█▏                                                                                              | 3/238 [00:07<09:47,  2.50s/it]\n"
     ]
    }
   ],
   "source": [
    "nmsPatchNotes = get_patch_notes()"
   ]
  },
  {
   "cell_type": "code",
   "execution_count": 28,
   "id": "44e3aee0-2dfe-4a5c-80a0-3a775b3adb8d",
   "metadata": {},
   "outputs": [
    {
     "name": "stdout",
     "output_type": "stream",
     "text": [
      "{0: {'Title': 'worlds-part-ii-5-57', 'Month': '02', 'Year': '2025', 'Notes': \"'Worlds Part II - 5.57'\\n'February 14, 2025'\\n'.'\\n'Hello Everyone,'\\n'Thank you to everyone playing No Man’s Sky – Worlds Part II, especially those taking the time to report any issues they encounter via Zendesk or console crash reporting.'\\n'We are listening closely to your feedback, and have identified and resolved a number of issues. These fixes are included in patch 5.57, which is now live on Steam and will be coming to other platforms as soon as possible.'\\n'Bug Fixes'\\n'Fixed an issue with the Hazard Pay milestone in the Titan expedition that could cause notification messages to flicker.'\\n'Fixed an issue that prevented an underwater crashed freighter from spawning at the second rendezvous point in the Titan expedition.'\\n'Implemented a recovery for players who have lost their hyperdrive in the Titan expedition.'\\n'Fixed a number of issues that could prevent Exocraft scanners from locating buildings.'\\n'Fixed an issue that could cause Specialist Polo to repeat some dialogue in the In Stellar Multitudes mission.'\\n'Fixed an issue that prevented the In Stellar Multitudes mission from detecting nearby dissonant planets while aboard the Space Anomaly.'\\n'Fixed a rare issue which could prevent the In Stellar Multitudes mission from restoring the first purple star system.'\\n'Fixed an issue that caused ships to lose their custom name when brought back from an expedition.'\\n'Fixed an issue that caused Multi-Tools to lose their custom name when brought back from an expedition.'\\n'Fixed a UI issue that could cause inconsistencies in the hold-to-confirm time for popups if the popup button overlapped a button beneath the popup.'\\n'Fixed an issue that could cause a mismatch between the colour of a dialogue box title and the race of the speaker.'\\n'Fixed an issue that could cause a significant dip in framerate when practising alien language.'\\n'Fixed an issue that prevented the Surge Battery recipe from being learnt in Abandoned Mode.'\\n'Fixed an issue that could cause the game to hang when changing graphics options in PCVR.'\\n'We will continue to release patches as issues are identified and resolved. If you experience any issues, let us know by submitting a'\\n'bug report'\\n'.'\\n'Thank you,'\\n'Hello Games'\", 'Patch update': False, 'Bug fix update': True, 'Scrape error': False}, 1: {'Title': 'worlds-part-ii-5-56', 'Month': '02', 'Year': '2025', 'Notes': '\\'Worlds Part II - 5.56\\'\\n\\'February 13, 2025\\'\\n\\'.\\'\\n\\'Hello Everyone,\\'\\n\\'Thank you to everyone playing No Man’s Sky – Worlds Part II, especially those taking the time to report any issues they encounter via Zendesk or console crash reporting.\\'\\n\\'We are listening closely to your feedback, and have identified and resolved a number of issues. These fixes are included in patch 5.56, which is now live on Steam and will be coming to other platforms as soon as possible.\\'\\n\\'Bug Fixes\\'\\n\\'Fixed an issue that could caused the Pillar of Titan reward to appear as already claimed after transferring back to the main save after completing the Titan Expedition.\\'\\n\\'Fixed an issue that prevented packaged technology from being deployed into the Colossus.\\'\\n\\'Fixed an issue in the Titan Expedition where building the floating variant of the Nautilon Chamber would not allow missions to progress.\\'\\n\\'Fixed an issue that could cause missions in the Titan Expedition to fail to detect waterworlds correctly.\\'\\n\"Fixed a crash affecting players playing the PlayStation4 version of No Man\\'s Sky on PlayStation 5.\"\\n\\'We will continue to release patches as issues are identified and resolved. If you experience any issues, let us know by submitting a\\'\\n\\'bug report\\'\\n\\'.\\'\\n\\'Thank you,\\'\\n\\'Hello Games\\'', 'Patch update': False, 'Bug fix update': True, 'Scrape error': False}, 2: {'Title': 'expedition-seventeen-titan', 'Month': '02', 'Year': '2025', 'Notes': \"'Expedition Seventeen: Titan'\\n'February 12, 2025'\\n'.'\\n'Hello everyone!'\\n'Following on from last month’s massive'\\n'Worlds Part II'\\n'update, today we are launching our'\\n'seventeenth expedition: TITAN'\\n', and inviting the entire community to explore some of the new planets introduced in Worlds Part II.'\\n'Awaken upon the spectacular but dangerous New Aftesfi, a titanic'\\n'gas giant'\\n'ravaged by tornadoes and encircled by moons. Chart a course between rendezvous points to reach a dazzling array of new stars and new worlds, endless oceans and cloud-skimming mountains.'\\n'Titan begins'\\n'today'\\n', and will run for approximately'\\n'six weeks'\\n'. Participating Travellers can complete milestones to earn a generous spread of exclusive rewards:'\\n'Titan Expedition Rewards'\\n'Gas Giant, Depth Warning, and Cartographer’s posters'\\n'Commemorate your journey through the Titan expedition with these stylish and colourful'\\n'posters'\\n'.'\\n'“Titan Stripes” Ship Customisation'\\n'An exclusive starship customisation option, creating a vibrant and eye-catching appearance for'\\n'Fighter'\\n'and'\\n'Hauler'\\n'class starships.'\\n'Surveyor’s Cape'\\n'A robust and well-made'\\n'covering'\\n': waterproof, windproof and designed to keep the wearer protected against anything they may encounter while exploring unmapped worlds.'\\n'“Pillar of Titan” Staff'\\n'This sturdy'\\n'staff'\\n'is hewn from polished stone, and yet floats in the hand as if it were no weight at all. It is a perfect companion to those who seek to make long trips across the wilderness.'\\n'The Wraith'\\n'Survey new worlds in the Titan Expedition to claim'\\n'The Wraith'\\n', a unique living ship dredged from the inky depths of a water world.'\\n'Once earned, these rewards may be redeemed across all your save games.'\\n'Begin the Titan expedition from the'\\n'Expedition Terminus'\\n'aboard the Space Anomaly, or from a fresh'\\n'new save'\\n', which you can later choose to convert a Normal Mode save.'\\n'Note that'\\n'new'\\n'saves converted to Normal Mode in this way will continue to have access to the new purple star systems, and the story mission In Stellar Multitudes will not be available.'\\n'Our upcoming game, Light No Fire, is powered by the same engine that drives No Man’s Sky. If you’re interested to see where we take our technology next, you can keep up with news by wishlisting Light No Fire on Steam'\\n'here'\\n'.'\\n'Development Update'\\n'In addition to launching the Titan expedition today, we’ve released an update for No Man’s Sky, version 5.55, which includes a number of high-priority fixes and improvements. The patch notes are available'\\n'here'\\n'.'\\n'Thank you for playing. We have so much more planned for 2025!'\\n'Our journey continues.'\\n'Sean'\", 'Patch update': True, 'Bug fix update': False, 'Scrape error': False}}\n"
     ]
    }
   ],
   "source": [
    "print(nmsPatchNotes)"
   ]
  },
  {
   "cell_type": "markdown",
   "id": "aa464ba5-1918-45fe-b083-1246ed90e8ac",
   "metadata": {},
   "source": [
    "### Develop file saving for scraped data"
   ]
  },
  {
   "cell_type": "code",
   "execution_count": null,
   "id": "025433a2-e4b9-426e-bd35-9f200e21f7fd",
   "metadata": {},
   "outputs": [],
   "source": []
  },
  {
   "cell_type": "markdown",
   "id": "756c9cb4-62d6-466c-8fa7-26b13413335c",
   "metadata": {},
   "source": [
    "## Initial debugging tests"
   ]
  },
  {
   "cell_type": "code",
   "execution_count": 29,
   "id": "0f7059ef",
   "metadata": {},
   "outputs": [
    {
     "name": "stdout",
     "output_type": "stream",
     "text": [
      "/2025/02/worlds-part-ii-5-57/\n",
      "{'Title': 'worlds-part-ii-5-57', 'Month': '02', 'Year': '2025', 'Notes': \"'Worlds Part II - 5.57'\\n'February 14, 2025'\\n'.'\\n'Hello Everyone,'\\n'Thank you to everyone playing No Man’s Sky – Worlds Part II, especially those taking the time to report any issues they encounter via Zendesk or console crash reporting.'\\n'We are listening closely to your feedback, and have identified and resolved a number of issues. These fixes are included in patch 5.57, which is now live on Steam and will be coming to other platforms as soon as possible.'\\n'Bug Fixes'\\n'Fixed an issue with the Hazard Pay milestone in the Titan expedition that could cause notification messages to flicker.'\\n'Fixed an issue that prevented an underwater crashed freighter from spawning at the second rendezvous point in the Titan expedition.'\\n'Implemented a recovery for players who have lost their hyperdrive in the Titan expedition.'\\n'Fixed a number of issues that could prevent Exocraft scanners from locating buildings.'\\n'Fixed an issue that could cause Specialist Polo to repeat some dialogue in the In Stellar Multitudes mission.'\\n'Fixed an issue that prevented the In Stellar Multitudes mission from detecting nearby dissonant planets while aboard the Space Anomaly.'\\n'Fixed a rare issue which could prevent the In Stellar Multitudes mission from restoring the first purple star system.'\\n'Fixed an issue that caused ships to lose their custom name when brought back from an expedition.'\\n'Fixed an issue that caused Multi-Tools to lose their custom name when brought back from an expedition.'\\n'Fixed a UI issue that could cause inconsistencies in the hold-to-confirm time for popups if the popup button overlapped a button beneath the popup.'\\n'Fixed an issue that could cause a mismatch between the colour of a dialogue box title and the race of the speaker.'\\n'Fixed an issue that could cause a significant dip in framerate when practising alien language.'\\n'Fixed an issue that prevented the Surge Battery recipe from being learnt in Abandoned Mode.'\\n'Fixed an issue that could cause the game to hang when changing graphics options in PCVR.'\\n'We will continue to release patches as issues are identified and resolved. If you experience any issues, let us know by submitting a'\\n'bug report'\\n'.'\\n'Thank you,'\\n'Hello Games'\", 'Patch update': False, 'Bug fix update': True, 'Scrape error': False}\n"
     ]
    }
   ],
   "source": [
    "url=\"https://www.nomanssky.com/\"\n",
    "patchPages = get_patch_page_urls()\n",
    "testPage = get_patch_notes_from_page(patchPages[0])\n",
    "print(patchPages[0])\n",
    "print(testPage)"
   ]
  },
  {
   "cell_type": "code",
   "execution_count": 30,
   "id": "f289c93f-d3c7-4329-aa17-c464eccc3cb0",
   "metadata": {},
   "outputs": [
    {
     "name": "stdout",
     "output_type": "stream",
     "text": [
      "/2025/02/worlds-part-ii-5-56/\n",
      "{'Title': 'worlds-part-ii-5-56', 'Month': '02', 'Year': '2025', 'Notes': '\\'Worlds Part II - 5.56\\'\\n\\'February 13, 2025\\'\\n\\'.\\'\\n\\'Hello Everyone,\\'\\n\\'Thank you to everyone playing No Man’s Sky – Worlds Part II, especially those taking the time to report any issues they encounter via Zendesk or console crash reporting.\\'\\n\\'We are listening closely to your feedback, and have identified and resolved a number of issues. These fixes are included in patch 5.56, which is now live on Steam and will be coming to other platforms as soon as possible.\\'\\n\\'Bug Fixes\\'\\n\\'Fixed an issue that could caused the Pillar of Titan reward to appear as already claimed after transferring back to the main save after completing the Titan Expedition.\\'\\n\\'Fixed an issue that prevented packaged technology from being deployed into the Colossus.\\'\\n\\'Fixed an issue in the Titan Expedition where building the floating variant of the Nautilon Chamber would not allow missions to progress.\\'\\n\\'Fixed an issue that could cause missions in the Titan Expedition to fail to detect waterworlds correctly.\\'\\n\"Fixed a crash affecting players playing the PlayStation4 version of No Man\\'s Sky on PlayStation 5.\"\\n\\'We will continue to release patches as issues are identified and resolved. If you experience any issues, let us know by submitting a\\'\\n\\'bug report\\'\\n\\'.\\'\\n\\'Thank you,\\'\\n\\'Hello Games\\'', 'Patch update': False, 'Bug fix update': True, 'Scrape error': False}\n"
     ]
    }
   ],
   "source": [
    "url=\"https://www.nomanssky.com/\"\n",
    "patchNoteSection=(\"a\",\"link link--inherit\")\n",
    "patchPages = get_patch_page_urls()\n",
    "testPage = get_patch_notes_from_page(patchPages[1])\n",
    "print(patchPages[1])\n",
    "print(testPage)"
   ]
  },
  {
   "cell_type": "code",
   "execution_count": 31,
   "id": "e1a172e8-0213-48b3-a6ef-3d4fa62bf99d",
   "metadata": {},
   "outputs": [
    {
     "name": "stdout",
     "output_type": "stream",
     "text": [
      "/2025/02/expedition-seventeen-titan/\n",
      "{'Title': 'expedition-seventeen-titan', 'Month': '02', 'Year': '2025', 'Notes': \"'Expedition Seventeen: Titan'\\n'February 12, 2025'\\n'.'\\n'Hello everyone!'\\n'Following on from last month’s massive'\\n'Worlds Part II'\\n'update, today we are launching our'\\n'seventeenth expedition: TITAN'\\n', and inviting the entire community to explore some of the new planets introduced in Worlds Part II.'\\n'Awaken upon the spectacular but dangerous New Aftesfi, a titanic'\\n'gas giant'\\n'ravaged by tornadoes and encircled by moons. Chart a course between rendezvous points to reach a dazzling array of new stars and new worlds, endless oceans and cloud-skimming mountains.'\\n'Titan begins'\\n'today'\\n', and will run for approximately'\\n'six weeks'\\n'. Participating Travellers can complete milestones to earn a generous spread of exclusive rewards:'\\n'Titan Expedition Rewards'\\n'Gas Giant, Depth Warning, and Cartographer’s posters'\\n'Commemorate your journey through the Titan expedition with these stylish and colourful'\\n'posters'\\n'.'\\n'“Titan Stripes” Ship Customisation'\\n'An exclusive starship customisation option, creating a vibrant and eye-catching appearance for'\\n'Fighter'\\n'and'\\n'Hauler'\\n'class starships.'\\n'Surveyor’s Cape'\\n'A robust and well-made'\\n'covering'\\n': waterproof, windproof and designed to keep the wearer protected against anything they may encounter while exploring unmapped worlds.'\\n'“Pillar of Titan” Staff'\\n'This sturdy'\\n'staff'\\n'is hewn from polished stone, and yet floats in the hand as if it were no weight at all. It is a perfect companion to those who seek to make long trips across the wilderness.'\\n'The Wraith'\\n'Survey new worlds in the Titan Expedition to claim'\\n'The Wraith'\\n', a unique living ship dredged from the inky depths of a water world.'\\n'Once earned, these rewards may be redeemed across all your save games.'\\n'Begin the Titan expedition from the'\\n'Expedition Terminus'\\n'aboard the Space Anomaly, or from a fresh'\\n'new save'\\n', which you can later choose to convert a Normal Mode save.'\\n'Note that'\\n'new'\\n'saves converted to Normal Mode in this way will continue to have access to the new purple star systems, and the story mission In Stellar Multitudes will not be available.'\\n'Our upcoming game, Light No Fire, is powered by the same engine that drives No Man’s Sky. If you’re interested to see where we take our technology next, you can keep up with news by wishlisting Light No Fire on Steam'\\n'here'\\n'.'\\n'Development Update'\\n'In addition to launching the Titan expedition today, we’ve released an update for No Man’s Sky, version 5.55, which includes a number of high-priority fixes and improvements. The patch notes are available'\\n'here'\\n'.'\\n'Thank you for playing. We have so much more planned for 2025!'\\n'Our journey continues.'\\n'Sean'\", 'Patch update': True, 'Bug fix update': False, 'Scrape error': False}\n"
     ]
    }
   ],
   "source": [
    "url=\"https://www.nomanssky.com/\"\n",
    "patchNoteSection=(\"a\",\"link link--inherit\")\n",
    "patchPages = get_patch_page_urls()\n",
    "testPage = get_patch_notes_from_page(patchPages[2])\n",
    "print(patchPages[2])\n",
    "print(testPage)"
   ]
  },
  {
   "cell_type": "code",
   "execution_count": 32,
   "id": "4d2b0749",
   "metadata": {},
   "outputs": [],
   "source": [
    "# Grab individual patch note releases from nms main release=log page\n",
    "URL = \"https://www.nomanssky.com/worlds-part-ii-update/\"\n",
    "page = requests.get(URL)\n",
    "soup = BeautifulSoup(page.content, \"html.parser\")\n",
    "not_patch_button = SoupStrainer(class_=_class_not_patch_note_button)\n",
    "# patch_note_sections = soup.find_all(class_=_class_not_patch_note_button)#,string=re.compile(\"Patch Notes\",flags=re.IGNORECASE))\n",
    "patch_note_sections = soup.find_all(class_=_class_not_patch_note_button, string=re.compile(\"Patch Notes\", flags=re.IGNORECASE))"
   ]
  },
  {
   "cell_type": "code",
   "execution_count": 33,
   "id": "e0e315db-71ed-4cc4-9eb8-2f871cf7959c",
   "metadata": {},
   "outputs": [
    {
     "name": "stdout",
     "output_type": "stream",
     "text": [
      "All notes: ['Latest patch notes', '5.5 Patch notes']\n",
      "Final Filtered Notes: ['5.5 Patch notes']\n"
     ]
    }
   ],
   "source": [
    "all_notes = soup.find_all(string=re.compile(\"Patch Notes\", flags=re.IGNORECASE))\n",
    "print(\"All notes:\", all_notes)\n",
    "filtered_notes = [tag for tag in all_notes if _class_not_patch_note_button(tag.parent.get(\"class\"))]  \n",
    "\n",
    "print(\"Final Filtered Notes:\", filtered_notes)  # Debugging step\n"
   ]
  },
  {
   "cell_type": "code",
   "execution_count": null,
   "id": "817d88ce",
   "metadata": {},
   "outputs": [],
   "source": []
  }
 ],
 "metadata": {
  "kernelspec": {
   "display_name": "Python 3 (ipykernel)",
   "language": "python",
   "name": "python3"
  },
  "language_info": {
   "codemirror_mode": {
    "name": "ipython",
    "version": 3
   },
   "file_extension": ".py",
   "mimetype": "text/x-python",
   "name": "python",
   "nbconvert_exporter": "python",
   "pygments_lexer": "ipython3",
   "version": "3.12.3"
  }
 },
 "nbformat": 4,
 "nbformat_minor": 5
}
