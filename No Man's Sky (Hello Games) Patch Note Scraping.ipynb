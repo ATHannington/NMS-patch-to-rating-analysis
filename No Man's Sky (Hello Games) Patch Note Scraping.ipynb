{
 "cells": [
  {
   "cell_type": "markdown",
   "id": "9a15598c-aeda-4a99-b35c-f4e2b1a6e323",
   "metadata": {},
   "source": [
    "# No Man's Sky (Hello Games) Patch Note Scraping"
   ]
  },
  {
   "cell_type": "code",
   "execution_count": 1,
   "id": "c70a3f98",
   "metadata": {},
   "outputs": [],
   "source": [
    "import numpy as np\n",
    "import pandas as pd\n",
    "import matplotlib.pyplot as plt\n",
    "import h5py\n",
    "import json\n",
    "import requests\n",
    "import re\n",
    "import time\n",
    "import random\n",
    "import copy\n",
    "from tqdm import tqdm\n",
    "from bs4 import BeautifulSoup, SoupStrainer\n",
    "from bs4.diagnose import diagnose"
   ]
  },
  {
   "cell_type": "code",
   "execution_count": 53,
   "id": "09593167",
   "metadata": {},
   "outputs": [],
   "source": [
    "def get_patch_page_urls(\n",
    "    url=\"https://www.nomanssky.com/\",\n",
    "    releaseLogPage=\"/release-log/\",\n",
    "    patchNoteSection=(\"a\",\"link link--inherit\")\n",
    "):\n",
    "    \n",
    "    page = requests.get(url+releaseLogPage)\n",
    "    soup = BeautifulSoup(page.content, \"html.parser\")\n",
    "\n",
    "    ## Grab the list of individual patch release pages \n",
    "    if len(patchNoteSection)==1:\n",
    "        htmlTarget = patchNoteSection[0]\n",
    "        patchPages = soup.find_all(htmlTarget, href=True)\n",
    "    elif len(patchNoteSection)==2:\n",
    "        htmlTarget = patchNoteSection[0]\n",
    "        htmlClass = patchNoteSection[1]\n",
    "        patchPages = soup.find_all(htmlTarget, class_=htmlClass) \n",
    "    else:\n",
    "        raise ValueError(\"Invalid patchNoteSection format.\")\n",
    "     \n",
    "    links = [patch.get(\"href\") for patch in patchPages]\n",
    "\n",
    "    return links\n",
    "\n",
    "def _class_not_patch_note_button(class_):\n",
    "    if not class_:\n",
    "        return True  # Exclude elements with no class\n",
    "    \n",
    "    if isinstance(class_, list):\n",
    "        if (set(class_) == {\"btn\", \"btn--primary\"}): \n",
    "            return False  # Exclude exact match\n",
    "        if (\"btn\" in class_ and \"btn--primary\" in class_): \n",
    "            return False  # Exclude if both are present\n",
    "    \n",
    "    return class_ != \"btn btn--primary\"  # Extra safety for unexpected cases\n",
    "\n",
    "def get_patch_notes_from_page(\n",
    "    patchPageUrl,\n",
    "    baseUrl=\"https://www.nomanssky.com/\",\n",
    "    identifyPatchNotesString=\"Patch Notes\",\n",
    "    identifyBugFixesString=\"Bug Fixes\"\n",
    "):\n",
    "    output = {\n",
    "        \"Title\": None,\n",
    "        \"Month\": None,\n",
    "        \"Year\": None,\n",
    "        \"Notes\": None,\n",
    "        \"Patch update\": False,\n",
    "        \"Bug fix update\": False,\n",
    "        \"Scrape error\": False\n",
    "    }\n",
    "\n",
    "    try:\n",
    "        output[\"Year\"], output[\"Month\"], output[\"Title\"] = patchPageUrl[1:-1].split(\"/\")\n",
    "    except:\n",
    "        title = patchPageUrl[1:-1].split(\"/\")\n",
    "\n",
    "        if type(title)==list:\n",
    "            output[\"Title\"] = title[0]\n",
    "        else:\n",
    "            output[\"Title\"] = title\n",
    "        output[\"Scrape error\"] = True\n",
    "        \n",
    "    page = requests.get(baseUrl+patchPageUrl)\n",
    "    soup = BeautifulSoup(page.content, \"html.parser\")\n",
    "\n",
    "    ## Retrieve all elements that contain the patch notes string\n",
    "    all_notes = soup.find_all(string=re.compile(identifyPatchNotesString, flags=re.IGNORECASE))\n",
    "    # print(\"all_notes:\", all_notes) # Debugging step\n",
    "    \n",
    "    ## Filter out elements with \"btn btn--primary\"\n",
    "    noteSection = [tag for tag in all_notes if _class_not_patch_note_button(tag.parent.get(\"class\"))]  \n",
    "    # print(\"Final Filtered NoteSection:\", noteSection)  # Debugging step\n",
    "\n",
    "    ## If no Patch Notes info has been found, try scraping for bug fix notes instead\n",
    "    if not noteSection:\n",
    "        output[\"Bug fix update\"] = True\n",
    "        ## Retrieve all elements that contain the bug fix string\n",
    "        all_notes = soup.find_all(string=re.compile(identifyBugFixesString, flags=re.IGNORECASE))\n",
    "        # print(\"all_notes:\", all_notes) # Debugging step\n",
    "        ## Filter out elements with \"btn btn--primary\"\n",
    "        noteSection = [tag for tag in all_notes if _class_not_patch_note_button(tag.parent.get(\"class\"))]  \n",
    "        # print(\"Final Filtered NoteSection:\", noteSection)  # Debugging step\n",
    "    else:\n",
    "        output[\"Patch update\"] = True\n",
    "\n",
    "    ## Now that we've located the relevant section of the page, let us go\n",
    "    ##  back up the beautiful soup html tree, to identify the notes that follow\n",
    "    notes = []\n",
    "    for nn in noteSection:\n",
    "        ## We need to climb several levels. At least one for the string itself, one for the placeholder of that string on page\n",
    "        ##  and one more for that page section. However, there may be more, hence the while loop.\n",
    "        ## Finally, we should find the section containing the patch/bug fix notes\n",
    "\n",
    "        parentLevel = 0\n",
    "        pageSection = nn.parent\n",
    "        search = pageSection.find_all(\"li\")\n",
    "        # print(pageSection)\n",
    "        while ((parentLevel <=5)&(len(search)<=3)):\n",
    "            # print(\"\\n\")\n",
    "            # print(pageSection)\n",
    "            newSection = pageSection.parent\n",
    "            search = newSection.find_all(\"li\")\n",
    "            pageSection = newSection\n",
    "            parentLevel+=1\n",
    "\n",
    "        # print(parentLevel)\n",
    "        # print(len(search))\n",
    "        for ee in pageSection.stripped_strings:\n",
    "            notes.append(repr(ee))\n",
    "\n",
    "    if not notes:\n",
    "        output[\"Scrape error\"] = True\n",
    "        \n",
    "    output[\"Notes\"] = \"\\n\".join(notes)\n",
    "    return output\n",
    "\n",
    "def get_patch_notes(\n",
    "    url=\"https://www.nomanssky.com/\",\n",
    "    releaseLogPage=\"/release-log/\",\n",
    "    patchNoteSection=(\"a\",\"link link--inherit\"),\n",
    "    identifyPatchNotesString=\"Patch Notes\",\n",
    "    identifyBugFixesString=\"Bug Fixes\"):\n",
    "\n",
    "    out = {}\n",
    "    print(f\"Finding individual patch release pages from {url+releaseLogPage} ...\")\n",
    "    patchPages = get_patch_page_urls(\n",
    "        url=url,\n",
    "        releaseLogPage=releaseLogPage,\n",
    "        patchNoteSection=patchNoteSection\n",
    "    )\n",
    "\n",
    "    nPages = len(patchPages)\n",
    "    print(f\"Found {nPages} individual patch release pages!\")\n",
    "    print(f\"Scraping patch notes...\")\n",
    "    for ii,page in tqdm(enumerate(patchPages),total=nPages):\n",
    "        ## Reduce request frequency in less 'robotic' fashion to prevent sites blocking access\n",
    "        time.sleep(random.randint(0,3))\n",
    "        notes = get_patch_notes_from_page(\n",
    "            patchPageUrl=page,\n",
    "            baseUrl=url,\n",
    "            identifyPatchNotesString=identifyPatchNotesString,\n",
    "            identifyBugFixesString=identifyBugFixesString\n",
    "        )\n",
    "        out[ii] = copy.deepcopy(notes)\n",
    "\n",
    "    return out"
   ]
  },
  {
   "cell_type": "markdown",
   "id": "9f328d34-187f-41be-834c-2cc87f9878dd",
   "metadata": {},
   "source": [
    "## Main"
   ]
  },
  {
   "cell_type": "markdown",
   "id": "1f8c75ed-3e45-41b2-a64d-a88a27fe91be",
   "metadata": {},
   "source": [
    "### Scrape data"
   ]
  },
  {
   "cell_type": "code",
   "execution_count": 54,
   "id": "f1328331",
   "metadata": {},
   "outputs": [
    {
     "name": "stdout",
     "output_type": "stream",
     "text": [
      "Finding individual patch release pages from https://www.nomanssky.com//release-log/ ...\n",
      "Found 238 individual patch release pages!\n",
      "Scraping patch notes...\n"
     ]
    },
    {
     "name": "stderr",
     "output_type": "stream",
     "text": [
      "100%|█████████████████████████████████████████████████████████████████████████████████| 238/238 [09:04<00:00,  2.29s/it]\n"
     ]
    }
   ],
   "source": [
    "nmsPatchNotes = get_patch_notes()"
   ]
  },
  {
   "cell_type": "markdown",
   "id": "aa464ba5-1918-45fe-b083-1246ed90e8ac",
   "metadata": {},
   "source": [
    "### Save scraped data to hd5f file"
   ]
  },
  {
   "cell_type": "code",
   "execution_count": 57,
   "id": "025433a2-e4b9-426e-bd35-9f200e21f7fd",
   "metadata": {},
   "outputs": [],
   "source": [
    "saveFile = \"NMS_patch_notes.hdf5\"\n",
    "dataHomeGroupDir = \"PatchNotes\"\n",
    "with h5py.File(saveFile,\"w\") as file:\n",
    "    for pageNumber, patchNotes in nmsPatchNotes.items():\n",
    "        page = dataHomeGroupDir+f\"/{int(pageNumber)}\"\n",
    "        grp = file.create_group(page)\n",
    "        for key,data in patchNotes.items():\n",
    "            if data is not None:\n",
    "                grp.create_dataset(str(key),data=copy.deepcopy(data))\n",
    "            else:\n",
    "                grp.create_dataset(str(key),data=h5py.Empty(\"f\"))"
   ]
  },
  {
   "cell_type": "code",
   "execution_count": null,
   "id": "c627975b-d0c3-4c77-ba41-3d15c0897502",
   "metadata": {},
   "outputs": [],
   "source": []
  },
  {
   "cell_type": "code",
   "execution_count": null,
   "id": "0408d560-18e0-4428-9d5b-93a63ae01280",
   "metadata": {},
   "outputs": [],
   "source": []
  },
  {
   "cell_type": "code",
   "execution_count": null,
   "id": "ca9177fb-dc50-465a-92d1-18418d7e6040",
   "metadata": {},
   "outputs": [],
   "source": []
  },
  {
   "cell_type": "code",
   "execution_count": null,
   "id": "94b8f12a-e462-437b-b273-12098c486203",
   "metadata": {},
   "outputs": [],
   "source": []
  },
  {
   "cell_type": "code",
   "execution_count": null,
   "id": "e0286ad1-a7a2-4067-9c1f-cc0e5e1a1975",
   "metadata": {},
   "outputs": [],
   "source": []
  },
  {
   "cell_type": "code",
   "execution_count": null,
   "id": "8bb95e8e-bfae-44c1-baf9-f359db5ecec6",
   "metadata": {},
   "outputs": [],
   "source": []
  },
  {
   "cell_type": "code",
   "execution_count": 62,
   "id": "b2d15edd-7b1f-415b-a09f-fc1cf81c333d",
   "metadata": {},
   "outputs": [
    {
     "name": "stdout",
     "output_type": "stream",
     "text": [
      "Patch page number 0\n",
      "Bug fix update True\n",
      "Month b'02'\n",
      "Notes b\"'Worlds Part II - 5.57'\\n'February 14, 2025'\\n'.'\\n'Hello Everyone,'\\n'Thank you to everyone playing No Man\\xe2\\x80\\x99s Sky \\xe2\\x80\\x93 Worlds Part II, especially those taking the time to report any issues they encounter via Zendesk or console crash reporting.'\\n'We are listening closely to your feedback, and have identified and resolved a number of issues. These fixes are included in patch 5.57, which is now live on Steam and will be coming to other platforms as soon as possible.'\\n'Bug Fixes'\\n'Fixed an issue with the Hazard Pay milestone in the Titan expedition that could cause notification messages to flicker.'\\n'Fixed an issue that prevented an underwater crashed freighter from spawning at the second rendezvous point in the Titan expedition.'\\n'Implemented a recovery for players who have lost their hyperdrive in the Titan expedition.'\\n'Fixed a number of issues that could prevent Exocraft scanners from locating buildings.'\\n'Fixed an issue that could cause Specialist Polo to repeat some dialogue in the In Stellar Multitudes mission.'\\n'Fixed an issue that prevented the In Stellar Multitudes mission from detecting nearby dissonant planets while aboard the Space Anomaly.'\\n'Fixed a rare issue which could prevent the In Stellar Multitudes mission from restoring the first purple star system.'\\n'Fixed an issue that caused ships to lose their custom name when brought back from an expedition.'\\n'Fixed an issue that caused Multi-Tools to lose their custom name when brought back from an expedition.'\\n'Fixed a UI issue that could cause inconsistencies in the hold-to-confirm time for popups if the popup button overlapped a button beneath the popup.'\\n'Fixed an issue that could cause a mismatch between the colour of a dialogue box title and the race of the speaker.'\\n'Fixed an issue that could cause a significant dip in framerate when practising alien language.'\\n'Fixed an issue that prevented the Surge Battery recipe from being learnt in Abandoned Mode.'\\n'Fixed an issue that could cause the game to hang when changing graphics options in PCVR.'\\n'We will continue to release patches as issues are identified and resolved. If you experience any issues, let us know by submitting a'\\n'bug report'\\n'.'\\n'Thank you,'\\n'Hello Games'\"\n",
      "Patch update False\n",
      "Scrape error False\n",
      "Title b'worlds-part-ii-5-57'\n",
      "Year b'2025'\n",
      "Patch page number 1\n",
      "Bug fix update True\n",
      "Month b'02'\n",
      "Notes b'\\'Worlds Part II - 5.56\\'\\n\\'February 13, 2025\\'\\n\\'.\\'\\n\\'Hello Everyone,\\'\\n\\'Thank you to everyone playing No Man\\xe2\\x80\\x99s Sky \\xe2\\x80\\x93 Worlds Part II, especially those taking the time to report any issues they encounter via Zendesk or console crash reporting.\\'\\n\\'We are listening closely to your feedback, and have identified and resolved a number of issues. These fixes are included in patch 5.56, which is now live on Steam and will be coming to other platforms as soon as possible.\\'\\n\\'Bug Fixes\\'\\n\\'Fixed an issue that could caused the Pillar of Titan reward to appear as already claimed after transferring back to the main save after completing the Titan Expedition.\\'\\n\\'Fixed an issue that prevented packaged technology from being deployed into the Colossus.\\'\\n\\'Fixed an issue in the Titan Expedition where building the floating variant of the Nautilon Chamber would not allow missions to progress.\\'\\n\\'Fixed an issue that could cause missions in the Titan Expedition to fail to detect waterworlds correctly.\\'\\n\"Fixed a crash affecting players playing the PlayStation4 version of No Man\\'s Sky on PlayStation 5.\"\\n\\'We will continue to release patches as issues are identified and resolved. If you experience any issues, let us know by submitting a\\'\\n\\'bug report\\'\\n\\'.\\'\\n\\'Thank you,\\'\\n\\'Hello Games\\''\n",
      "Patch update False\n",
      "Scrape error False\n",
      "Title b'worlds-part-ii-5-56'\n",
      "Year b'2025'\n",
      "Patch page number 10\n",
      "Bug fix update True\n",
      "Month b'11'\n",
      "Notes b''\n",
      "Patch update False\n",
      "Scrape error True\n",
      "Title b'holiday-2024-expeditions'\n",
      "Year b'2024'\n",
      "Patch page number 100\n",
      "Bug fix update True\n",
      "Month b'03'\n",
      "Notes b\"'Sentinel 3.84'\\n'March 01, 2022'\\n'.'\\n'Hello everyone,'\\n'Thank you to everyone playing the Sentinel Update, especially those taking the time to report any issues they encounter via Zendesk or console crash reporting.'\\n'We are listening closely to your feedback, and have identified and resolved a number of issues. These fixes are included in patch 3.84, which will be live on all platforms soon.'\\n'Bug fixes'\\n'Added an option to the Quick Menu to toggle the Minotaur AI Pilot.'\\n'Fixed an issue that could cause the reconstructed drone to block the spawning of patrol drones.'\\n'Fixed an issue that caused Freighter bases to be broken after being reset.'\\n'Fixed an issue that could cause the Minotaur to become distorted when fighting biological horrors.'\\n'Fixed an issue that could prevent Sentinels from spawning around buildings.'\\n'Fixed an issue that caused Plasma Grenades to recharge infinitely.'\\n'Fixed an issue that caused Exocraft weapon upgrades to decrease the fire rate of the main cannon.'\\n'Fixed an issue that caused the base teleport module to appear as a buildable product in the inventory.'\\n'Fixed a rare issue that could prevent some buildings from spawning.'\\n'Fixed an issue that caused pet Quads to explode when shutting down hostile Sentinels.'\\n'Fixed an issue that caused the pet Quads redeemed from the Quicksilver Companion Robot to be orange instead of blue.'\\n'Fixed an issue that caused blue Quad pets to fail to speak with their correct voice.'\\n'Fixed an issue that briefly caused the word STEEL to appear when hatching a companion egg.'\\n'Fixed a rare issue that could cause players to die unexpectedly during warp or when getting in their ship.'\\n'Fixed an issue that prevented the friendly drone from navigating correctly while the player was riding a creature.'\\n'Fixed a rare issue that could prevent the recovery from working correctly after a player deletes their Sentinel Flare.'\\n'Added a message to the save select screen to alert players when a new Expedition begins.'\\n'Fixed an issue that could cause the Expedition to use the wrong number in some text instances.'\\n'Fixed an issue that could prevent expedition data from being correctly downloaded.'\\n'Fixed an issue that prevented the Exobiology reward decals and posters from functioning correctly.'\\n'Fixed an issue that prevented an Exobiology expedition reward from teaching the correct number of words.'\\n'Fixed a rare issue that could cause the galaxy map to direct players to a system their settlement was not actually in.'\\n'Fixed a rare issue where some Space Anomaly NPCs could be missing, which would block progress in A Trace of Metal.'\\n'Fixed an issue that prevented the Trace of Metal mission from continuing correctly after being reset.'\\n'Fixed an issue that could cause a blocker on Nexus repair missions.'\\n'Fixed an issue that locked the player in place while receiving rewards from a frigate expedition.'\\n'Fixed a rare issue in the Trace of Metal mission where players would be asked to build Minotaur parts they did not own.'\\n'Fixed an issue that could cause mission related settlement decisions to be lost when switching settlements during the mission.'\\n'Fixed a visual glitch when riding creatures.'\\n'Fixed issue where character\\xe2\\x80\\x99s head would become visible for a frame when activating camouflage.'\\n'Fixed an issue that caused screenshots to be black with DLAA enabled.'\\n'Fixed a number of visual glitches when getting up from a chair.'\\n'Fixed a hang that could occur when spawning creatures.'\\n'Fixed a crash related to input.'\\n'Fixed a crash related to rendering.'\\n'Fixed a memory related crash on PS4.'\\n'Introduced a memory optimisation for PS4.'\\n'Fixed a crash related to wind.'\\n'Fixed a rare softlock related to creature spawning near settlements.'\\n'Fixed a rare crashed related to trading.'\\n'Fixed a rare crash related to frigate expeditions.'\\n'Fixed a crash related to interacting with mineral and gas extractors.'\\n'Fixed a physics related crash.'\\n'We will continue to release patches as issues are identified and resolved. If you experience any issues, let us know by submitting a'\\n'bug report'\\n'.'\\n'Thank you,'\\n'Hello Games'\"\n",
      "Patch update False\n",
      "Scrape error False\n",
      "Title b'sentinel-patch-3-84'\n",
      "Year b'2022'\n",
      "Patch page number 101\n",
      "Bug fix update True\n",
      "Month b'02'\n",
      "Notes b\"'Sentinel 3.82'\\n'February 22, 2022'\\n'.'\\n'Hello everyone,'\\n'Thank you to everyone playing the Sentinel Update, especially those taking the time to report any issues they encounter via Zendesk or console crash reporting.'\\n'We are listening closely to your feedback, and have identified and resolved a number of issues. These fixes are included in patch 3.82, which will be live on all platforms soon.'\\n'Bug fixes'\\n'Sentinel damage levels have been tweaked slightly to provide a more even escalation of danger as players become stronger.'\\n'Fixed a number of issues with Sentinel navigation in caves and buildings.'\\n'Fixed an issue that could cause an invisible blocker to prevent access to settlement buildings.'\\n'Fixed an issue that could result in players being placed outside of the Space Station when quick warping to specific station models.'\\n'Fixed an issue that caused organic companions to generate partially robotic names.'\\n'Fixed an issue that caused untranslated text in base part colouration options.'\\n'Fixed an issue that caused weapons to leave unrepairable terrain impacts within a settlement.'\\n'Implemented a recovery for players who have ended up with duplicated core technology in their Exosuit inventory.'\\n'Fixed an issue that caused a duplicate teleporter to appear in the Catalogue.'\\n'Fixed an issue that prevented building mode crosshairs from appearing when building on a freighter.'\\n'Fixed an issue that could overwrite Space Anomaly NPC dialog for the A Trace of Metal mission, preventing mission progress.'\\n'Fixed an issue that caused the A Trace of Metal mission to override all mission notifications if the player does not immediately return to their settlement.'\\n'Added steps to the automated repair and install pinning instructions to assist players who need to locate an additional Radiant Brain.'\\n'Fixed an issue that prevented Radiant Brains from appearing in the Catalogue.'\\n'Fixed an issue that caused the Cloaking Device effect to overly darken the screen in VR.'\\n'Fixed an issue that caused some planetary shops and stations not to offer the same Multi-Tools as before 3.80.'\\n'Fixed an issue that caused the Expedition Mode Select to display \\xe2\\x80\\x98Download Failed\\xe2\\x80\\x99 when the expedition has not yet begun.'\\n'Introduced a number of navigation optimisations.'\\n'Fixed a crash that occurred when warping in someone else\\xe2\\x80\\x99s freighter.'\\n'Fixed a crash related to repair drones.'\\n'Fixed a rare crash related to weapon reloading.'\\n'Fixed a crash related to building on a freighter.'\\n'Fixed a crash related to calculating starship takeoff costs.'\\n'We will continue to release patches as issues are identified and resolved. If you experience any issues, let us know by submitting a'\\n'bug report'\\n'.'\\n'Thank you,'\\n'Hello Games'\"\n",
      "Patch update False\n",
      "Scrape error False\n",
      "Title b'sentinel-patch-3-82'\n",
      "Year b'2022'\n"
     ]
    },
    {
     "ename": "AssertionError",
     "evalue": "",
     "output_type": "error",
     "traceback": [
      "\u001b[0;31m---------------------------------------------------------------------------\u001b[0m",
      "\u001b[0;31mAssertionError\u001b[0m                            Traceback (most recent call last)",
      "Cell \u001b[0;32mIn[62], line 5\u001b[0m\n\u001b[1;32m      3\u001b[0m \u001b[38;5;28;01mfor\u001b[39;00m pageNumber, data \u001b[38;5;129;01min\u001b[39;00m file[\u001b[38;5;124m\"\u001b[39m\u001b[38;5;124mPatchNotes\u001b[39m\u001b[38;5;124m\"\u001b[39m]\u001b[38;5;241m.\u001b[39mitems():\n\u001b[1;32m      4\u001b[0m     \u001b[38;5;28;01mif\u001b[39;00m ii\u001b[38;5;241m>\u001b[39m\u001b[38;5;241m4\u001b[39m:\n\u001b[0;32m----> 5\u001b[0m         \u001b[38;5;28;01massert\u001b[39;00m \u001b[38;5;28;01mFalse\u001b[39;00m\n\u001b[1;32m      6\u001b[0m     \u001b[38;5;28mprint\u001b[39m(\u001b[38;5;124mf\u001b[39m\u001b[38;5;124m\"\u001b[39m\u001b[38;5;124mPatch page number \u001b[39m\u001b[38;5;132;01m{\u001b[39;00mpageNumber\u001b[38;5;132;01m}\u001b[39;00m\u001b[38;5;124m\"\u001b[39m)\n\u001b[1;32m      7\u001b[0m     ii\u001b[38;5;241m+\u001b[39m\u001b[38;5;241m=\u001b[39m\u001b[38;5;241m1\u001b[39m\n",
      "\u001b[0;31mAssertionError\u001b[0m: "
     ]
    }
   ],
   "source": [
    "with h5py.File(saveFile,\"r\") as file:\n",
    "    ii = 0\n",
    "    for pageNumber, data in file[\"PatchNotes\"].items():\n",
    "        if ii>4:\n",
    "            assert False\n",
    "        print(f\"Patch page number {pageNumber}\")\n",
    "        ii+=1\n",
    "        for kk, dd in data.items():\n",
    "            print(kk, dd[()])"
   ]
  },
  {
   "cell_type": "code",
   "execution_count": 50,
   "id": "4f333f26-9dad-4b70-b48b-7cc291a56923",
   "metadata": {},
   "outputs": [
    {
     "data": {
      "text/plain": [
       "<Closed HDF5 dataset>"
      ]
     },
     "execution_count": 50,
     "metadata": {},
     "output_type": "execute_result"
    }
   ],
   "source": []
  },
  {
   "cell_type": "markdown",
   "id": "756c9cb4-62d6-466c-8fa7-26b13413335c",
   "metadata": {},
   "source": [
    "## Initial debugging tests"
   ]
  },
  {
   "cell_type": "code",
   "execution_count": 59,
   "id": "0f7059ef",
   "metadata": {},
   "outputs": [
    {
     "name": "stdout",
     "output_type": "stream",
     "text": [
      "/2025/02/worlds-part-ii-5-57/\n",
      "{'Title': 'worlds-part-ii-5-57', 'Month': '02', 'Year': '2025', 'Notes': \"'Worlds Part II - 5.57'\\n'February 14, 2025'\\n'.'\\n'Hello Everyone,'\\n'Thank you to everyone playing No Man’s Sky – Worlds Part II, especially those taking the time to report any issues they encounter via Zendesk or console crash reporting.'\\n'We are listening closely to your feedback, and have identified and resolved a number of issues. These fixes are included in patch 5.57, which is now live on Steam and will be coming to other platforms as soon as possible.'\\n'Bug Fixes'\\n'Fixed an issue with the Hazard Pay milestone in the Titan expedition that could cause notification messages to flicker.'\\n'Fixed an issue that prevented an underwater crashed freighter from spawning at the second rendezvous point in the Titan expedition.'\\n'Implemented a recovery for players who have lost their hyperdrive in the Titan expedition.'\\n'Fixed a number of issues that could prevent Exocraft scanners from locating buildings.'\\n'Fixed an issue that could cause Specialist Polo to repeat some dialogue in the In Stellar Multitudes mission.'\\n'Fixed an issue that prevented the In Stellar Multitudes mission from detecting nearby dissonant planets while aboard the Space Anomaly.'\\n'Fixed a rare issue which could prevent the In Stellar Multitudes mission from restoring the first purple star system.'\\n'Fixed an issue that caused ships to lose their custom name when brought back from an expedition.'\\n'Fixed an issue that caused Multi-Tools to lose their custom name when brought back from an expedition.'\\n'Fixed a UI issue that could cause inconsistencies in the hold-to-confirm time for popups if the popup button overlapped a button beneath the popup.'\\n'Fixed an issue that could cause a mismatch between the colour of a dialogue box title and the race of the speaker.'\\n'Fixed an issue that could cause a significant dip in framerate when practising alien language.'\\n'Fixed an issue that prevented the Surge Battery recipe from being learnt in Abandoned Mode.'\\n'Fixed an issue that could cause the game to hang when changing graphics options in PCVR.'\\n'We will continue to release patches as issues are identified and resolved. If you experience any issues, let us know by submitting a'\\n'bug report'\\n'.'\\n'Thank you,'\\n'Hello Games'\", 'Patch update': False, 'Bug fix update': True, 'Scrape error': False}\n"
     ]
    }
   ],
   "source": [
    "url=\"https://www.nomanssky.com/\"\n",
    "patchPages = get_patch_page_urls()\n",
    "testPage = get_patch_notes_from_page(patchPages[0])\n",
    "print(patchPages[0])\n",
    "print(testPage)"
   ]
  },
  {
   "cell_type": "code",
   "execution_count": 60,
   "id": "f289c93f-d3c7-4329-aa17-c464eccc3cb0",
   "metadata": {},
   "outputs": [
    {
     "name": "stdout",
     "output_type": "stream",
     "text": [
      "/2025/02/worlds-part-ii-5-56/\n",
      "{'Title': 'worlds-part-ii-5-56', 'Month': '02', 'Year': '2025', 'Notes': '\\'Worlds Part II - 5.56\\'\\n\\'February 13, 2025\\'\\n\\'.\\'\\n\\'Hello Everyone,\\'\\n\\'Thank you to everyone playing No Man’s Sky – Worlds Part II, especially those taking the time to report any issues they encounter via Zendesk or console crash reporting.\\'\\n\\'We are listening closely to your feedback, and have identified and resolved a number of issues. These fixes are included in patch 5.56, which is now live on Steam and will be coming to other platforms as soon as possible.\\'\\n\\'Bug Fixes\\'\\n\\'Fixed an issue that could caused the Pillar of Titan reward to appear as already claimed after transferring back to the main save after completing the Titan Expedition.\\'\\n\\'Fixed an issue that prevented packaged technology from being deployed into the Colossus.\\'\\n\\'Fixed an issue in the Titan Expedition where building the floating variant of the Nautilon Chamber would not allow missions to progress.\\'\\n\\'Fixed an issue that could cause missions in the Titan Expedition to fail to detect waterworlds correctly.\\'\\n\"Fixed a crash affecting players playing the PlayStation4 version of No Man\\'s Sky on PlayStation 5.\"\\n\\'We will continue to release patches as issues are identified and resolved. If you experience any issues, let us know by submitting a\\'\\n\\'bug report\\'\\n\\'.\\'\\n\\'Thank you,\\'\\n\\'Hello Games\\'', 'Patch update': False, 'Bug fix update': True, 'Scrape error': False}\n"
     ]
    }
   ],
   "source": [
    "url=\"https://www.nomanssky.com/\"\n",
    "patchNoteSection=(\"a\",\"link link--inherit\")\n",
    "patchPages = get_patch_page_urls()\n",
    "testPage = get_patch_notes_from_page(patchPages[1])\n",
    "print(patchPages[1])\n",
    "print(testPage)"
   ]
  },
  {
   "cell_type": "code",
   "execution_count": 61,
   "id": "e1a172e8-0213-48b3-a6ef-3d4fa62bf99d",
   "metadata": {},
   "outputs": [
    {
     "name": "stdout",
     "output_type": "stream",
     "text": [
      "/2025/02/expedition-seventeen-titan/\n",
      "{'Title': 'expedition-seventeen-titan', 'Month': '02', 'Year': '2025', 'Notes': \"'Expedition Seventeen: Titan'\\n'February 12, 2025'\\n'.'\\n'Hello everyone!'\\n'Following on from last month’s massive'\\n'Worlds Part II'\\n'update, today we are launching our'\\n'seventeenth expedition: TITAN'\\n', and inviting the entire community to explore some of the new planets introduced in Worlds Part II.'\\n'Awaken upon the spectacular but dangerous New Aftesfi, a titanic'\\n'gas giant'\\n'ravaged by tornadoes and encircled by moons. Chart a course between rendezvous points to reach a dazzling array of new stars and new worlds, endless oceans and cloud-skimming mountains.'\\n'Titan begins'\\n'today'\\n', and will run for approximately'\\n'six weeks'\\n'. Participating Travellers can complete milestones to earn a generous spread of exclusive rewards:'\\n'Titan Expedition Rewards'\\n'Gas Giant, Depth Warning, and Cartographer’s posters'\\n'Commemorate your journey through the Titan expedition with these stylish and colourful'\\n'posters'\\n'.'\\n'“Titan Stripes” Ship Customisation'\\n'An exclusive starship customisation option, creating a vibrant and eye-catching appearance for'\\n'Fighter'\\n'and'\\n'Hauler'\\n'class starships.'\\n'Surveyor’s Cape'\\n'A robust and well-made'\\n'covering'\\n': waterproof, windproof and designed to keep the wearer protected against anything they may encounter while exploring unmapped worlds.'\\n'“Pillar of Titan” Staff'\\n'This sturdy'\\n'staff'\\n'is hewn from polished stone, and yet floats in the hand as if it were no weight at all. It is a perfect companion to those who seek to make long trips across the wilderness.'\\n'The Wraith'\\n'Survey new worlds in the Titan Expedition to claim'\\n'The Wraith'\\n', a unique living ship dredged from the inky depths of a water world.'\\n'Once earned, these rewards may be redeemed across all your save games.'\\n'Begin the Titan expedition from the'\\n'Expedition Terminus'\\n'aboard the Space Anomaly, or from a fresh'\\n'new save'\\n', which you can later choose to convert a Normal Mode save.'\\n'Note that'\\n'new'\\n'saves converted to Normal Mode in this way will continue to have access to the new purple star systems, and the story mission In Stellar Multitudes will not be available.'\\n'Our upcoming game, Light No Fire, is powered by the same engine that drives No Man’s Sky. If you’re interested to see where we take our technology next, you can keep up with news by wishlisting Light No Fire on Steam'\\n'here'\\n'.'\\n'Development Update'\\n'In addition to launching the Titan expedition today, we’ve released an update for No Man’s Sky, version 5.55, which includes a number of high-priority fixes and improvements. The patch notes are available'\\n'here'\\n'.'\\n'Thank you for playing. We have so much more planned for 2025!'\\n'Our journey continues.'\\n'Sean'\", 'Patch update': True, 'Bug fix update': False, 'Scrape error': False}\n"
     ]
    }
   ],
   "source": [
    "url=\"https://www.nomanssky.com/\"\n",
    "patchNoteSection=(\"a\",\"link link--inherit\")\n",
    "patchPages = get_patch_page_urls()\n",
    "testPage = get_patch_notes_from_page(patchPages[2])\n",
    "print(patchPages[2])\n",
    "print(testPage)"
   ]
  },
  {
   "cell_type": "code",
   "execution_count": 32,
   "id": "4d2b0749",
   "metadata": {},
   "outputs": [],
   "source": [
    "# Grab individual patch note releases from nms main release=log page\n",
    "URL = \"https://www.nomanssky.com/worlds-part-ii-update/\"\n",
    "page = requests.get(URL)\n",
    "soup = BeautifulSoup(page.content, \"html.parser\")\n",
    "not_patch_button = SoupStrainer(class_=_class_not_patch_note_button)\n",
    "# patch_note_sections = soup.find_all(class_=_class_not_patch_note_button)#,string=re.compile(\"Patch Notes\",flags=re.IGNORECASE))\n",
    "patch_note_sections = soup.find_all(class_=_class_not_patch_note_button, string=re.compile(\"Patch Notes\", flags=re.IGNORECASE))"
   ]
  },
  {
   "cell_type": "code",
   "execution_count": 33,
   "id": "e0e315db-71ed-4cc4-9eb8-2f871cf7959c",
   "metadata": {},
   "outputs": [
    {
     "name": "stdout",
     "output_type": "stream",
     "text": [
      "All notes: ['Latest patch notes', '5.5 Patch notes']\n",
      "Final Filtered Notes: ['5.5 Patch notes']\n"
     ]
    }
   ],
   "source": [
    "all_notes = soup.find_all(string=re.compile(\"Patch Notes\", flags=re.IGNORECASE))\n",
    "print(\"All notes:\", all_notes)\n",
    "filtered_notes = [tag for tag in all_notes if _class_not_patch_note_button(tag.parent.get(\"class\"))]  \n",
    "\n",
    "print(\"Final Filtered Notes:\", filtered_notes)  # Debugging step\n"
   ]
  },
  {
   "cell_type": "code",
   "execution_count": null,
   "id": "817d88ce",
   "metadata": {},
   "outputs": [],
   "source": []
  }
 ],
 "metadata": {
  "kernelspec": {
   "display_name": "Python 3 (ipykernel)",
   "language": "python",
   "name": "python3"
  },
  "language_info": {
   "codemirror_mode": {
    "name": "ipython",
    "version": 3
   },
   "file_extension": ".py",
   "mimetype": "text/x-python",
   "name": "python",
   "nbconvert_exporter": "python",
   "pygments_lexer": "ipython3",
   "version": "3.12.3"
  }
 },
 "nbformat": 4,
 "nbformat_minor": 5
}
